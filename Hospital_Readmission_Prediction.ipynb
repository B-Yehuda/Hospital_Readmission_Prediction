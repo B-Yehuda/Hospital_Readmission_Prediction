{
  "nbformat": 4,
  "nbformat_minor": 0,
  "metadata": {
    "colab": {
      "name": "Hospital_Readmission_Prediction.ipynb",
      "provenance": [],
      "collapsed_sections": [],
      "toc_visible": true
    },
    "kernelspec": {
      "name": "python3",
      "display_name": "Python 3"
    }
  },
  "cells": [
    {
      "cell_type": "markdown",
      "metadata": {
        "id": "ZxedhuEYlhsH"
      },
      "source": [
        "# **Hospital Readmission**\n"
      ]
    },
    {
      "cell_type": "markdown",
      "source": [
        "#**Background**\n",
        "The goal of this project is to build a model that will predict whether a patient will be readmitted in some hospital.\n",
        "* Reference - https://www.kaggle.com/brandao/diabetes\n",
        "\n",
        "  The data set represents 10 years (1999-2008) of clinical care at 130 US hospitals and integrated delivery networks. It includes over 50 features representing patient and hospital outcomes. "
      ],
      "metadata": {
        "id": "q_FJct6NeIFt"
      }
    },
    {
      "cell_type": "markdown",
      "metadata": {
        "id": "0d4hHEGfl2Xz"
      },
      "source": [
        "# **Import Libraries**"
      ]
    },
    {
      "cell_type": "code",
      "metadata": {
        "id": "f05hpajxBjco",
        "colab": {
          "base_uri": "https://localhost:8080/"
        },
        "outputId": "6ddf535c-f3a1-4eed-b94c-3e4421c18c50"
      },
      "source": [
        "!pip install pydot\n",
        "import pydot\n",
        "import numpy as np\n",
        "import pandas as pd\n",
        "\n",
        "import matplotlib.pyplot as plt\n",
        "import seaborn as sns\n",
        "from mpl_toolkits.mplot3d import Axes3D\n",
        "import sys\n",
        "import warnings\n",
        "\n",
        "from sklearn.model_selection import train_test_split as split\n",
        "from sklearn.model_selection import train_test_split, cross_val_score, GridSearchCV, StratifiedShuffleSplit\n",
        "\n",
        "from sklearn.metrics import confusion_matrix, classification_report, accuracy_score, log_loss, f1_score, balanced_accuracy_score, roc_auc_score\n",
        "\n",
        "from sklearn.ensemble import RandomForestClassifier\n",
        "from sklearn.datasets import make_classification\n",
        "from sklearn.tree import DecisionTreeClassifier\n",
        "from sklearn.tree import export_graphviz\n",
        "from sklearn.linear_model import LogisticRegression\n",
        "from sklearn.neighbors import KNeighborsClassifier\n",
        "from sklearn.svm import SVC\n",
        "\n",
        "from sklearn.ensemble import VotingClassifier, BaggingClassifier, AdaBoostClassifier, GradientBoostingClassifier\n",
        "\n",
        "from sklearn.preprocessing import StandardScaler, MaxAbsScaler, Binarizer, PowerTransformer, MinMaxScaler, RobustScaler, Normalizer, QuantileTransformer\n",
        "from sklearn.preprocessing import LabelBinarizer\n",
        "from sklearn.preprocessing import FunctionTransformer\n",
        "from sklearn.decomposition import PCA\n",
        "from sklearn.pipeline import Pipeline, FeatureUnion\n",
        "from sklearn.feature_selection import SelectKBest, f_classif\n",
        "\n",
        "from imblearn.over_sampling import SMOTE\n",
        "from IPython.display import Image\n",
        "\n",
        "warnings.filterwarnings('ignore')\n",
        "%matplotlib inline"
      ],
      "execution_count": null,
      "outputs": [
        {
          "output_type": "stream",
          "name": "stdout",
          "text": [
            "Looking in indexes: https://pypi.org/simple, https://us-python.pkg.dev/colab-wheels/public/simple/\n",
            "Requirement already satisfied: pydot in /usr/local/lib/python3.7/dist-packages (1.3.0)\n",
            "Requirement already satisfied: pyparsing>=2.1.4 in /usr/local/lib/python3.7/dist-packages (from pydot) (3.0.9)\n"
          ]
        }
      ]
    },
    {
      "cell_type": "markdown",
      "metadata": {
        "id": "cggp5yMmaRqD"
      },
      "source": [
        "#**Import Data**"
      ]
    },
    {
      "cell_type": "code",
      "metadata": {
        "id": "6OFnGIY3Pvzv",
        "colab": {
          "base_uri": "https://localhost:8080/",
          "height": 73,
          "resources": {
            "http://localhost:8080/nbextensions/google.colab/files.js": {
              "data": "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",
              "ok": true,
              "headers": [
                [
                  "content-type",
                  "application/javascript"
                ]
              ],
              "status": 200,
              "status_text": ""
            }
          }
        },
        "outputId": "c19cd000-1543-4658-cf4b-aa160f4eda4a"
      },
      "source": [
        "if 'google.colab' in sys.modules:\n",
        "    from google.colab import files\n",
        "    uploaded = files.upload()"
      ],
      "execution_count": null,
      "outputs": [
        {
          "output_type": "display_data",
          "data": {
            "text/plain": [
              "<IPython.core.display.HTML object>"
            ],
            "text/html": [
              "\n",
              "     <input type=\"file\" id=\"files-fb64a340-f8de-4928-8975-30f56d3e8914\" name=\"files[]\" multiple disabled\n",
              "        style=\"border:none\" />\n",
              "     <output id=\"result-fb64a340-f8de-4928-8975-30f56d3e8914\">\n",
              "      Upload widget is only available when the cell has been executed in the\n",
              "      current browser session. Please rerun this cell to enable.\n",
              "      </output>\n",
              "      <script src=\"/nbextensions/google.colab/files.js\"></script> "
            ]
          },
          "metadata": {}
        },
        {
          "output_type": "stream",
          "name": "stdout",
          "text": [
            "Saving diabetic_data.csv to diabetic_data.csv\n"
          ]
        }
      ]
    },
    {
      "cell_type": "code",
      "source": [
        "df = pd.read_csv('diabetic_data.csv')\n",
        "df.head()"
      ],
      "metadata": {
        "colab": {
          "base_uri": "https://localhost:8080/",
          "height": 384
        },
        "id": "89kGGowJjLxi",
        "outputId": "741b4030-23e6-4971-c7d8-b96c30e343bd"
      },
      "execution_count": null,
      "outputs": [
        {
          "output_type": "execute_result",
          "data": {
            "text/plain": [
              "   encounter_id  patient_nbr             race  gender      age weight  \\\n",
              "0       2278392      8222157        Caucasian  Female   [0-10)      ?   \n",
              "1        149190     55629189        Caucasian  Female  [10-20)      ?   \n",
              "2         64410     86047875  AfricanAmerican  Female  [20-30)      ?   \n",
              "3        500364     82442376        Caucasian    Male  [30-40)      ?   \n",
              "4         16680     42519267        Caucasian    Male  [40-50)      ?   \n",
              "\n",
              "   admission_type_id  discharge_disposition_id  admission_source_id  \\\n",
              "0                  6                        25                    1   \n",
              "1                  1                         1                    7   \n",
              "2                  1                         1                    7   \n",
              "3                  1                         1                    7   \n",
              "4                  1                         1                    7   \n",
              "\n",
              "   time_in_hospital  ... citoglipton insulin  glyburide-metformin  \\\n",
              "0                 1  ...          No      No                   No   \n",
              "1                 3  ...          No      Up                   No   \n",
              "2                 2  ...          No      No                   No   \n",
              "3                 2  ...          No      Up                   No   \n",
              "4                 1  ...          No  Steady                   No   \n",
              "\n",
              "   glipizide-metformin  glimepiride-pioglitazone  metformin-rosiglitazone  \\\n",
              "0                   No                        No                       No   \n",
              "1                   No                        No                       No   \n",
              "2                   No                        No                       No   \n",
              "3                   No                        No                       No   \n",
              "4                   No                        No                       No   \n",
              "\n",
              "   metformin-pioglitazone  change diabetesMed readmitted  \n",
              "0                      No      No          No         NO  \n",
              "1                      No      Ch         Yes        >30  \n",
              "2                      No      No         Yes         NO  \n",
              "3                      No      Ch         Yes         NO  \n",
              "4                      No      Ch         Yes         NO  \n",
              "\n",
              "[5 rows x 50 columns]"
            ],
            "text/html": [
              "\n",
              "  <div id=\"df-52673f81-9df0-4e28-aa46-6699a86c1be4\">\n",
              "    <div class=\"colab-df-container\">\n",
              "      <div>\n",
              "<style scoped>\n",
              "    .dataframe tbody tr th:only-of-type {\n",
              "        vertical-align: middle;\n",
              "    }\n",
              "\n",
              "    .dataframe tbody tr th {\n",
              "        vertical-align: top;\n",
              "    }\n",
              "\n",
              "    .dataframe thead th {\n",
              "        text-align: right;\n",
              "    }\n",
              "</style>\n",
              "<table border=\"1\" class=\"dataframe\">\n",
              "  <thead>\n",
              "    <tr style=\"text-align: right;\">\n",
              "      <th></th>\n",
              "      <th>encounter_id</th>\n",
              "      <th>patient_nbr</th>\n",
              "      <th>race</th>\n",
              "      <th>gender</th>\n",
              "      <th>age</th>\n",
              "      <th>weight</th>\n",
              "      <th>admission_type_id</th>\n",
              "      <th>discharge_disposition_id</th>\n",
              "      <th>admission_source_id</th>\n",
              "      <th>time_in_hospital</th>\n",
              "      <th>...</th>\n",
              "      <th>citoglipton</th>\n",
              "      <th>insulin</th>\n",
              "      <th>glyburide-metformin</th>\n",
              "      <th>glipizide-metformin</th>\n",
              "      <th>glimepiride-pioglitazone</th>\n",
              "      <th>metformin-rosiglitazone</th>\n",
              "      <th>metformin-pioglitazone</th>\n",
              "      <th>change</th>\n",
              "      <th>diabetesMed</th>\n",
              "      <th>readmitted</th>\n",
              "    </tr>\n",
              "  </thead>\n",
              "  <tbody>\n",
              "    <tr>\n",
              "      <th>0</th>\n",
              "      <td>2278392</td>\n",
              "      <td>8222157</td>\n",
              "      <td>Caucasian</td>\n",
              "      <td>Female</td>\n",
              "      <td>[0-10)</td>\n",
              "      <td>?</td>\n",
              "      <td>6</td>\n",
              "      <td>25</td>\n",
              "      <td>1</td>\n",
              "      <td>1</td>\n",
              "      <td>...</td>\n",
              "      <td>No</td>\n",
              "      <td>No</td>\n",
              "      <td>No</td>\n",
              "      <td>No</td>\n",
              "      <td>No</td>\n",
              "      <td>No</td>\n",
              "      <td>No</td>\n",
              "      <td>No</td>\n",
              "      <td>No</td>\n",
              "      <td>NO</td>\n",
              "    </tr>\n",
              "    <tr>\n",
              "      <th>1</th>\n",
              "      <td>149190</td>\n",
              "      <td>55629189</td>\n",
              "      <td>Caucasian</td>\n",
              "      <td>Female</td>\n",
              "      <td>[10-20)</td>\n",
              "      <td>?</td>\n",
              "      <td>1</td>\n",
              "      <td>1</td>\n",
              "      <td>7</td>\n",
              "      <td>3</td>\n",
              "      <td>...</td>\n",
              "      <td>No</td>\n",
              "      <td>Up</td>\n",
              "      <td>No</td>\n",
              "      <td>No</td>\n",
              "      <td>No</td>\n",
              "      <td>No</td>\n",
              "      <td>No</td>\n",
              "      <td>Ch</td>\n",
              "      <td>Yes</td>\n",
              "      <td>&gt;30</td>\n",
              "    </tr>\n",
              "    <tr>\n",
              "      <th>2</th>\n",
              "      <td>64410</td>\n",
              "      <td>86047875</td>\n",
              "      <td>AfricanAmerican</td>\n",
              "      <td>Female</td>\n",
              "      <td>[20-30)</td>\n",
              "      <td>?</td>\n",
              "      <td>1</td>\n",
              "      <td>1</td>\n",
              "      <td>7</td>\n",
              "      <td>2</td>\n",
              "      <td>...</td>\n",
              "      <td>No</td>\n",
              "      <td>No</td>\n",
              "      <td>No</td>\n",
              "      <td>No</td>\n",
              "      <td>No</td>\n",
              "      <td>No</td>\n",
              "      <td>No</td>\n",
              "      <td>No</td>\n",
              "      <td>Yes</td>\n",
              "      <td>NO</td>\n",
              "    </tr>\n",
              "    <tr>\n",
              "      <th>3</th>\n",
              "      <td>500364</td>\n",
              "      <td>82442376</td>\n",
              "      <td>Caucasian</td>\n",
              "      <td>Male</td>\n",
              "      <td>[30-40)</td>\n",
              "      <td>?</td>\n",
              "      <td>1</td>\n",
              "      <td>1</td>\n",
              "      <td>7</td>\n",
              "      <td>2</td>\n",
              "      <td>...</td>\n",
              "      <td>No</td>\n",
              "      <td>Up</td>\n",
              "      <td>No</td>\n",
              "      <td>No</td>\n",
              "      <td>No</td>\n",
              "      <td>No</td>\n",
              "      <td>No</td>\n",
              "      <td>Ch</td>\n",
              "      <td>Yes</td>\n",
              "      <td>NO</td>\n",
              "    </tr>\n",
              "    <tr>\n",
              "      <th>4</th>\n",
              "      <td>16680</td>\n",
              "      <td>42519267</td>\n",
              "      <td>Caucasian</td>\n",
              "      <td>Male</td>\n",
              "      <td>[40-50)</td>\n",
              "      <td>?</td>\n",
              "      <td>1</td>\n",
              "      <td>1</td>\n",
              "      <td>7</td>\n",
              "      <td>1</td>\n",
              "      <td>...</td>\n",
              "      <td>No</td>\n",
              "      <td>Steady</td>\n",
              "      <td>No</td>\n",
              "      <td>No</td>\n",
              "      <td>No</td>\n",
              "      <td>No</td>\n",
              "      <td>No</td>\n",
              "      <td>Ch</td>\n",
              "      <td>Yes</td>\n",
              "      <td>NO</td>\n",
              "    </tr>\n",
              "  </tbody>\n",
              "</table>\n",
              "<p>5 rows × 50 columns</p>\n",
              "</div>\n",
              "      <button class=\"colab-df-convert\" onclick=\"convertToInteractive('df-52673f81-9df0-4e28-aa46-6699a86c1be4')\"\n",
              "              title=\"Convert this dataframe to an interactive table.\"\n",
              "              style=\"display:none;\">\n",
              "        \n",
              "  <svg xmlns=\"http://www.w3.org/2000/svg\" height=\"24px\"viewBox=\"0 0 24 24\"\n",
              "       width=\"24px\">\n",
              "    <path d=\"M0 0h24v24H0V0z\" fill=\"none\"/>\n",
              "    <path d=\"M18.56 5.44l.94 2.06.94-2.06 2.06-.94-2.06-.94-.94-2.06-.94 2.06-2.06.94zm-11 1L8.5 8.5l.94-2.06 2.06-.94-2.06-.94L8.5 2.5l-.94 2.06-2.06.94zm10 10l.94 2.06.94-2.06 2.06-.94-2.06-.94-.94-2.06-.94 2.06-2.06.94z\"/><path d=\"M17.41 7.96l-1.37-1.37c-.4-.4-.92-.59-1.43-.59-.52 0-1.04.2-1.43.59L10.3 9.45l-7.72 7.72c-.78.78-.78 2.05 0 2.83L4 21.41c.39.39.9.59 1.41.59.51 0 1.02-.2 1.41-.59l7.78-7.78 2.81-2.81c.8-.78.8-2.07 0-2.86zM5.41 20L4 18.59l7.72-7.72 1.47 1.35L5.41 20z\"/>\n",
              "  </svg>\n",
              "      </button>\n",
              "      \n",
              "  <style>\n",
              "    .colab-df-container {\n",
              "      display:flex;\n",
              "      flex-wrap:wrap;\n",
              "      gap: 12px;\n",
              "    }\n",
              "\n",
              "    .colab-df-convert {\n",
              "      background-color: #E8F0FE;\n",
              "      border: none;\n",
              "      border-radius: 50%;\n",
              "      cursor: pointer;\n",
              "      display: none;\n",
              "      fill: #1967D2;\n",
              "      height: 32px;\n",
              "      padding: 0 0 0 0;\n",
              "      width: 32px;\n",
              "    }\n",
              "\n",
              "    .colab-df-convert:hover {\n",
              "      background-color: #E2EBFA;\n",
              "      box-shadow: 0px 1px 2px rgba(60, 64, 67, 0.3), 0px 1px 3px 1px rgba(60, 64, 67, 0.15);\n",
              "      fill: #174EA6;\n",
              "    }\n",
              "\n",
              "    [theme=dark] .colab-df-convert {\n",
              "      background-color: #3B4455;\n",
              "      fill: #D2E3FC;\n",
              "    }\n",
              "\n",
              "    [theme=dark] .colab-df-convert:hover {\n",
              "      background-color: #434B5C;\n",
              "      box-shadow: 0px 1px 3px 1px rgba(0, 0, 0, 0.15);\n",
              "      filter: drop-shadow(0px 1px 2px rgba(0, 0, 0, 0.3));\n",
              "      fill: #FFFFFF;\n",
              "    }\n",
              "  </style>\n",
              "\n",
              "      <script>\n",
              "        const buttonEl =\n",
              "          document.querySelector('#df-52673f81-9df0-4e28-aa46-6699a86c1be4 button.colab-df-convert');\n",
              "        buttonEl.style.display =\n",
              "          google.colab.kernel.accessAllowed ? 'block' : 'none';\n",
              "\n",
              "        async function convertToInteractive(key) {\n",
              "          const element = document.querySelector('#df-52673f81-9df0-4e28-aa46-6699a86c1be4');\n",
              "          const dataTable =\n",
              "            await google.colab.kernel.invokeFunction('convertToInteractive',\n",
              "                                                     [key], {});\n",
              "          if (!dataTable) return;\n",
              "\n",
              "          const docLinkHtml = 'Like what you see? Visit the ' +\n",
              "            '<a target=\"_blank\" href=https://colab.research.google.com/notebooks/data_table.ipynb>data table notebook</a>'\n",
              "            + ' to learn more about interactive tables.';\n",
              "          element.innerHTML = '';\n",
              "          dataTable['output_type'] = 'display_data';\n",
              "          await google.colab.output.renderOutput(dataTable, element);\n",
              "          const docLink = document.createElement('div');\n",
              "          docLink.innerHTML = docLinkHtml;\n",
              "          element.appendChild(docLink);\n",
              "        }\n",
              "      </script>\n",
              "    </div>\n",
              "  </div>\n",
              "  "
            ]
          },
          "metadata": {},
          "execution_count": 5
        }
      ]
    },
    {
      "cell_type": "code",
      "source": [
        "df.dtypes"
      ],
      "metadata": {
        "colab": {
          "base_uri": "https://localhost:8080/"
        },
        "id": "JxmTaCW2jZdA",
        "outputId": "09d26c2c-7c7d-4e35-810b-6946717afc7c"
      },
      "execution_count": null,
      "outputs": [
        {
          "output_type": "execute_result",
          "data": {
            "text/plain": [
              "encounter_id                 int64\n",
              "patient_nbr                  int64\n",
              "race                        object\n",
              "gender                      object\n",
              "age                         object\n",
              "weight                      object\n",
              "admission_type_id            int64\n",
              "discharge_disposition_id     int64\n",
              "admission_source_id          int64\n",
              "time_in_hospital             int64\n",
              "payer_code                  object\n",
              "medical_specialty           object\n",
              "num_lab_procedures           int64\n",
              "num_procedures               int64\n",
              "num_medications              int64\n",
              "number_outpatient            int64\n",
              "number_emergency             int64\n",
              "number_inpatient             int64\n",
              "diag_1                      object\n",
              "diag_2                      object\n",
              "diag_3                      object\n",
              "number_diagnoses             int64\n",
              "max_glu_serum               object\n",
              "A1Cresult                   object\n",
              "metformin                   object\n",
              "repaglinide                 object\n",
              "nateglinide                 object\n",
              "chlorpropamide              object\n",
              "glimepiride                 object\n",
              "acetohexamide               object\n",
              "glipizide                   object\n",
              "glyburide                   object\n",
              "tolbutamide                 object\n",
              "pioglitazone                object\n",
              "rosiglitazone               object\n",
              "acarbose                    object\n",
              "miglitol                    object\n",
              "troglitazone                object\n",
              "tolazamide                  object\n",
              "examide                     object\n",
              "citoglipton                 object\n",
              "insulin                     object\n",
              "glyburide-metformin         object\n",
              "glipizide-metformin         object\n",
              "glimepiride-pioglitazone    object\n",
              "metformin-rosiglitazone     object\n",
              "metformin-pioglitazone      object\n",
              "change                      object\n",
              "diabetesMed                 object\n",
              "readmitted                  object\n",
              "dtype: object"
            ]
          },
          "metadata": {},
          "execution_count": 6
        }
      ]
    },
    {
      "cell_type": "markdown",
      "source": [
        "#**Data Cleaning**"
      ],
      "metadata": {
        "id": "D1q_WyigjpNl"
      }
    },
    {
      "cell_type": "code",
      "source": [
        "df.info()"
      ],
      "metadata": {
        "colab": {
          "base_uri": "https://localhost:8080/"
        },
        "id": "94HMRVmUCQuj",
        "outputId": "81f84651-5aee-4199-f804-1f5747c85e1b"
      },
      "execution_count": null,
      "outputs": [
        {
          "output_type": "stream",
          "name": "stdout",
          "text": [
            "<class 'pandas.core.frame.DataFrame'>\n",
            "RangeIndex: 101766 entries, 0 to 101765\n",
            "Data columns (total 50 columns):\n",
            " #   Column                    Non-Null Count   Dtype \n",
            "---  ------                    --------------   ----- \n",
            " 0   encounter_id              101766 non-null  int64 \n",
            " 1   patient_nbr               101766 non-null  int64 \n",
            " 2   race                      101766 non-null  object\n",
            " 3   gender                    101766 non-null  object\n",
            " 4   age                       101766 non-null  object\n",
            " 5   weight                    101766 non-null  object\n",
            " 6   admission_type_id         101766 non-null  int64 \n",
            " 7   discharge_disposition_id  101766 non-null  int64 \n",
            " 8   admission_source_id       101766 non-null  int64 \n",
            " 9   time_in_hospital          101766 non-null  int64 \n",
            " 10  payer_code                101766 non-null  object\n",
            " 11  medical_specialty         101766 non-null  object\n",
            " 12  num_lab_procedures        101766 non-null  int64 \n",
            " 13  num_procedures            101766 non-null  int64 \n",
            " 14  num_medications           101766 non-null  int64 \n",
            " 15  number_outpatient         101766 non-null  int64 \n",
            " 16  number_emergency          101766 non-null  int64 \n",
            " 17  number_inpatient          101766 non-null  int64 \n",
            " 18  diag_1                    101766 non-null  object\n",
            " 19  diag_2                    101766 non-null  object\n",
            " 20  diag_3                    101766 non-null  object\n",
            " 21  number_diagnoses          101766 non-null  int64 \n",
            " 22  max_glu_serum             101766 non-null  object\n",
            " 23  A1Cresult                 101766 non-null  object\n",
            " 24  metformin                 101766 non-null  object\n",
            " 25  repaglinide               101766 non-null  object\n",
            " 26  nateglinide               101766 non-null  object\n",
            " 27  chlorpropamide            101766 non-null  object\n",
            " 28  glimepiride               101766 non-null  object\n",
            " 29  acetohexamide             101766 non-null  object\n",
            " 30  glipizide                 101766 non-null  object\n",
            " 31  glyburide                 101766 non-null  object\n",
            " 32  tolbutamide               101766 non-null  object\n",
            " 33  pioglitazone              101766 non-null  object\n",
            " 34  rosiglitazone             101766 non-null  object\n",
            " 35  acarbose                  101766 non-null  object\n",
            " 36  miglitol                  101766 non-null  object\n",
            " 37  troglitazone              101766 non-null  object\n",
            " 38  tolazamide                101766 non-null  object\n",
            " 39  examide                   101766 non-null  object\n",
            " 40  citoglipton               101766 non-null  object\n",
            " 41  insulin                   101766 non-null  object\n",
            " 42  glyburide-metformin       101766 non-null  object\n",
            " 43  glipizide-metformin       101766 non-null  object\n",
            " 44  glimepiride-pioglitazone  101766 non-null  object\n",
            " 45  metformin-rosiglitazone   101766 non-null  object\n",
            " 46  metformin-pioglitazone    101766 non-null  object\n",
            " 47  change                    101766 non-null  object\n",
            " 48  diabetesMed               101766 non-null  object\n",
            " 49  readmitted                101766 non-null  object\n",
            "dtypes: int64(13), object(37)\n",
            "memory usage: 38.8+ MB\n"
          ]
        }
      ]
    },
    {
      "cell_type": "code",
      "source": [
        "# handle missing values\n",
        "for col in df.columns:\n",
        "    if df[col].dtype == object:\n",
        "         print(col,df[col][(df[col] == '?') | (df[col] == 'NaN') | (df[col] == 'Unknown/Invalid')].count())"
      ],
      "metadata": {
        "colab": {
          "base_uri": "https://localhost:8080/"
        },
        "id": "E6c7OpBij-3W",
        "outputId": "3ad32cef-39cb-4b5f-f737-715214d711cd"
      },
      "execution_count": null,
      "outputs": [
        {
          "output_type": "stream",
          "name": "stdout",
          "text": [
            "race 2273\n",
            "gender 3\n",
            "age 0\n",
            "weight 98569\n",
            "payer_code 40256\n",
            "medical_specialty 49949\n",
            "diag_1 21\n",
            "diag_2 358\n",
            "diag_3 1423\n",
            "max_glu_serum 0\n",
            "A1Cresult 0\n",
            "metformin 0\n",
            "repaglinide 0\n",
            "nateglinide 0\n",
            "chlorpropamide 0\n",
            "glimepiride 0\n",
            "acetohexamide 0\n",
            "glipizide 0\n",
            "glyburide 0\n",
            "tolbutamide 0\n",
            "pioglitazone 0\n",
            "rosiglitazone 0\n",
            "acarbose 0\n",
            "miglitol 0\n",
            "troglitazone 0\n",
            "tolazamide 0\n",
            "examide 0\n",
            "citoglipton 0\n",
            "insulin 0\n",
            "glyburide-metformin 0\n",
            "glipizide-metformin 0\n",
            "glimepiride-pioglitazone 0\n",
            "metformin-rosiglitazone 0\n",
            "metformin-pioglitazone 0\n",
            "change 0\n",
            "diabetesMed 0\n",
            "readmitted 0\n"
          ]
        }
      ]
    },
    {
      "cell_type": "code",
      "metadata": {
        "id": "zK6_actXCSz5"
      },
      "source": [
        "# drop columns with large number of missing values\n",
        "df = df.drop(['weight','payer_code','medical_specialty'], axis = 1)"
      ],
      "execution_count": null,
      "outputs": []
    },
    {
      "cell_type": "code",
      "source": [
        "# drop rows with missing values\n",
        "drop_index = set(df[(df['diag_1'] == '?') | (df['diag_2'] == '?') | (df['diag_3'] == '?') |\\\n",
        "                    (df['diag_1'] == 'NaN') | (df['diag_2'] == 'NaN') | (df['diag_3'] == 'NaN') |\\\n",
        "                    (df['diag_1'] == 'Unknown/Invalid') | (df['diag_2'] == 'Unknown/Invalid') | (df['diag_3'] == 'Unknown/Invalid')].index)\n",
        "drop_index = drop_index.union(set(df['race'][(df['race'] == '?') |\\\n",
        "                                             (df['race'] == 'NaN') |\\\n",
        "                                             (df['race'] == 'Unknown/Invalid')].index))\n",
        "drop_index = drop_index.union(set(df['gender'][(df['gender'] == '?') |\\\n",
        "                                             (df['gender'] == 'NaN') |\\\n",
        "                                             (df['gender'] == 'Unknown/Invalid')].index))\n",
        "new_index = list(set(df.index) - set(drop_index))\n",
        "df = df.iloc[new_index]"
      ],
      "metadata": {
        "id": "QhfzDnr0tiXs"
      },
      "execution_count": null,
      "outputs": []
    },
    {
      "cell_type": "code",
      "metadata": {
        "id": "_k8FAajcu6j9",
        "colab": {
          "base_uri": "https://localhost:8080/"
        },
        "outputId": "4c2f2e8f-6fab-4c06-9758-844a4ab40d01"
      },
      "source": [
        "df.nunique()"
      ],
      "execution_count": null,
      "outputs": [
        {
          "output_type": "execute_result",
          "data": {
            "text/plain": [
              "encounter_id                98052\n",
              "patient_nbr                 68629\n",
              "race                            5\n",
              "gender                          2\n",
              "age                            10\n",
              "admission_type_id               8\n",
              "discharge_disposition_id       26\n",
              "admission_source_id            17\n",
              "time_in_hospital               14\n",
              "num_lab_procedures            118\n",
              "num_procedures                  7\n",
              "num_medications                75\n",
              "number_outpatient              39\n",
              "number_emergency               33\n",
              "number_inpatient               20\n",
              "diag_1                        713\n",
              "diag_2                        740\n",
              "diag_3                        786\n",
              "number_diagnoses               14\n",
              "max_glu_serum                   4\n",
              "A1Cresult                       4\n",
              "metformin                       4\n",
              "repaglinide                     4\n",
              "nateglinide                     4\n",
              "chlorpropamide                  4\n",
              "glimepiride                     4\n",
              "acetohexamide                   2\n",
              "glipizide                       4\n",
              "glyburide                       4\n",
              "tolbutamide                     2\n",
              "pioglitazone                    4\n",
              "rosiglitazone                   4\n",
              "acarbose                        4\n",
              "miglitol                        4\n",
              "troglitazone                    2\n",
              "tolazamide                      3\n",
              "examide                         1\n",
              "citoglipton                     1\n",
              "insulin                         4\n",
              "glyburide-metformin             4\n",
              "glipizide-metformin             2\n",
              "glimepiride-pioglitazone        2\n",
              "metformin-rosiglitazone         1\n",
              "metformin-pioglitazone          2\n",
              "change                          2\n",
              "diabetesMed                     2\n",
              "readmitted                      3\n",
              "dtype: int64"
            ]
          },
          "metadata": {},
          "execution_count": 11
        }
      ]
    },
    {
      "cell_type": "code",
      "metadata": {
        "id": "1_Fh--WHPdlA",
        "colab": {
          "base_uri": "https://localhost:8080/"
        },
        "outputId": "bf274ab0-9653-4d15-9a34-fc98ece5ceb4"
      },
      "source": [
        "# drop rows with NA or dupliacted or with same values\n",
        "df.dropna(axis=0, inplace = True)\n",
        "df.drop_duplicates(inplace = True)\n",
        "df.drop(['citoglipton', 'examide'], axis=1)\n",
        "df.info()"
      ],
      "execution_count": null,
      "outputs": [
        {
          "output_type": "stream",
          "name": "stdout",
          "text": [
            "<class 'pandas.core.frame.DataFrame'>\n",
            "Int64Index: 98052 entries, 1 to 101765\n",
            "Data columns (total 47 columns):\n",
            " #   Column                    Non-Null Count  Dtype \n",
            "---  ------                    --------------  ----- \n",
            " 0   encounter_id              98052 non-null  int64 \n",
            " 1   patient_nbr               98052 non-null  int64 \n",
            " 2   race                      98052 non-null  object\n",
            " 3   gender                    98052 non-null  object\n",
            " 4   age                       98052 non-null  object\n",
            " 5   admission_type_id         98052 non-null  int64 \n",
            " 6   discharge_disposition_id  98052 non-null  int64 \n",
            " 7   admission_source_id       98052 non-null  int64 \n",
            " 8   time_in_hospital          98052 non-null  int64 \n",
            " 9   num_lab_procedures        98052 non-null  int64 \n",
            " 10  num_procedures            98052 non-null  int64 \n",
            " 11  num_medications           98052 non-null  int64 \n",
            " 12  number_outpatient         98052 non-null  int64 \n",
            " 13  number_emergency          98052 non-null  int64 \n",
            " 14  number_inpatient          98052 non-null  int64 \n",
            " 15  diag_1                    98052 non-null  object\n",
            " 16  diag_2                    98052 non-null  object\n",
            " 17  diag_3                    98052 non-null  object\n",
            " 18  number_diagnoses          98052 non-null  int64 \n",
            " 19  max_glu_serum             98052 non-null  object\n",
            " 20  A1Cresult                 98052 non-null  object\n",
            " 21  metformin                 98052 non-null  object\n",
            " 22  repaglinide               98052 non-null  object\n",
            " 23  nateglinide               98052 non-null  object\n",
            " 24  chlorpropamide            98052 non-null  object\n",
            " 25  glimepiride               98052 non-null  object\n",
            " 26  acetohexamide             98052 non-null  object\n",
            " 27  glipizide                 98052 non-null  object\n",
            " 28  glyburide                 98052 non-null  object\n",
            " 29  tolbutamide               98052 non-null  object\n",
            " 30  pioglitazone              98052 non-null  object\n",
            " 31  rosiglitazone             98052 non-null  object\n",
            " 32  acarbose                  98052 non-null  object\n",
            " 33  miglitol                  98052 non-null  object\n",
            " 34  troglitazone              98052 non-null  object\n",
            " 35  tolazamide                98052 non-null  object\n",
            " 36  examide                   98052 non-null  object\n",
            " 37  citoglipton               98052 non-null  object\n",
            " 38  insulin                   98052 non-null  object\n",
            " 39  glyburide-metformin       98052 non-null  object\n",
            " 40  glipizide-metformin       98052 non-null  object\n",
            " 41  glimepiride-pioglitazone  98052 non-null  object\n",
            " 42  metformin-rosiglitazone   98052 non-null  object\n",
            " 43  metformin-pioglitazone    98052 non-null  object\n",
            " 44  change                    98052 non-null  object\n",
            " 45  diabetesMed               98052 non-null  object\n",
            " 46  readmitted                98052 non-null  object\n",
            "dtypes: int64(13), object(34)\n",
            "memory usage: 35.9+ MB\n"
          ]
        }
      ]
    },
    {
      "cell_type": "markdown",
      "metadata": {
        "id": "0SMZes3GVI11"
      },
      "source": [
        "# **Feature Engineering**"
      ]
    },
    {
      "cell_type": "markdown",
      "source": [
        "**Readmitted column**"
      ],
      "metadata": {
        "id": "2Akw7S8w1TPB"
      }
    },
    {
      "cell_type": "code",
      "source": [
        "# display readmitted distribution\n",
        "df['readmitted'].value_counts()"
      ],
      "metadata": {
        "colab": {
          "base_uri": "https://localhost:8080/"
        },
        "id": "cvSbpRliqD2p",
        "outputId": "1146de48-c331-4956-9545-3f94f14efbfd"
      },
      "execution_count": null,
      "outputs": [
        {
          "output_type": "execute_result",
          "data": {
            "text/plain": [
              "NO     52337\n",
              ">30    34649\n",
              "<30    11066\n",
              "Name: readmitted, dtype: int64"
            ]
          },
          "metadata": {},
          "execution_count": 13
        }
      ]
    },
    {
      "cell_type": "code",
      "source": [
        "# encoding readmitted variable (whether patient gets readmitted within 30 days)\n",
        "df['readmitted'] = df['readmitted'].replace('>30', 0)\n",
        "df['readmitted'] = df['readmitted'].replace('<30', 1)\n",
        "df['readmitted'] = df['readmitted'].replace('NO', 0)"
      ],
      "metadata": {
        "id": "B7lv3KzEpkAn"
      },
      "execution_count": null,
      "outputs": []
    },
    {
      "cell_type": "code",
      "metadata": {
        "id": "Ifs_fd4GY06u",
        "colab": {
          "base_uri": "https://localhost:8080/",
          "height": 227
        },
        "outputId": "42d2d28c-77ed-46fc-da7f-4a52457e0d01"
      },
      "source": [
        "# display new readmitted distribution\n",
        "f, plot = plt.subplots(figsize=(4, 3))\n",
        "plot = df.groupby(['readmitted'])['encounter_id'].count().plot(kind='pie',autopct='%1.f%%')\n",
        "plt.title('Readmitted Distribution')\n",
        "plot"
      ],
      "execution_count": null,
      "outputs": [
        {
          "output_type": "execute_result",
          "data": {
            "text/plain": [
              "<matplotlib.axes._subplots.AxesSubplot at 0x7f0b2a0bc150>"
            ]
          },
          "metadata": {},
          "execution_count": 15
        },
        {
          "output_type": "display_data",
          "data": {
            "text/plain": [
              "<Figure size 288x216 with 1 Axes>"
            ],
            "image/png": "[encoded data removed]"
          },
          "metadata": {}
        }
      ]
    },
    {
      "cell_type": "markdown",
      "metadata": {
        "id": "EEMW8ABxeZsf"
      },
      "source": [
        "**Age column**"
      ]
    },
    {
      "cell_type": "code",
      "source": [
        "# display age distribution\n",
        "df['age'].value_counts()"
      ],
      "metadata": {
        "colab": {
          "base_uri": "https://localhost:8080/"
        },
        "id": "etnM3DBDx08z",
        "outputId": "86f6c658-b6b7-41f6-90fc-c733fcd48239"
      },
      "execution_count": null,
      "outputs": [
        {
          "output_type": "execute_result",
          "data": {
            "text/plain": [
              "[70-80)     25305\n",
              "[60-70)     21809\n",
              "[80-90)     16702\n",
              "[50-60)     16697\n",
              "[40-50)      9265\n",
              "[30-40)      3548\n",
              "[90-100)     2717\n",
              "[20-30)      1478\n",
              "[10-20)       466\n",
              "[0-10)         65\n",
              "Name: age, dtype: int64"
            ]
          },
          "metadata": {},
          "execution_count": 16
        }
      ]
    },
    {
      "cell_type": "code",
      "metadata": {
        "id": "2wldOjNObwpk"
      },
      "source": [
        "# encoding age variable (from string to mid age)\n",
        "mid_age = df['age'].str.split('-').str[1].str.split(')').str[0].astype(np.int64)-5\n",
        "df['age'] = mid_age"
      ],
      "execution_count": null,
      "outputs": []
    },
    {
      "cell_type": "code",
      "source": [
        "# display mid age distribution\n",
        "f, plot = plt.subplots(figsize=(4, 3))\n",
        "plot = sns.countplot(x=\"age\", data=df, hue=\"readmitted\", palette=\"bwr\")\n",
        "plot.set_title(\"Readmitted by Age\")\n",
        "plt.show()"
      ],
      "metadata": {
        "colab": {
          "base_uri": "https://localhost:8080/",
          "height": 241
        },
        "id": "OVA7dvDM1nlg",
        "outputId": "6491ff0e-5c04-4b6b-a6b9-9e3c2b8a940b"
      },
      "execution_count": null,
      "outputs": [
        {
          "output_type": "display_data",
          "data": {
            "text/plain": [
              "<Figure size 288x216 with 1 Axes>"
            ],
            "image/png": "[encoded data removed]"
          },
          "metadata": {
            "needs_background": "light"
          }
        }
      ]
    },
    {
      "cell_type": "markdown",
      "source": [
        "**Gender column**"
      ],
      "metadata": {
        "id": "Ih1e2lL2Afo8"
      }
    },
    {
      "cell_type": "code",
      "source": [
        "f, plot = plt.subplots(figsize=(4, 3))\n",
        "plot = sns.countplot(x=\"gender\", data=df, hue=\"readmitted\", palette=\"bwr\")\n",
        "plot.set_title(\"Readmission by Gender\")\n",
        "plt.show()"
      ],
      "metadata": {
        "colab": {
          "base_uri": "https://localhost:8080/",
          "height": 241
        },
        "id": "I-IGqbd1AIZ4",
        "outputId": "04136446-523d-44f0-ada8-1754b152fa1a"
      },
      "execution_count": null,
      "outputs": [
        {
          "output_type": "display_data",
          "data": {
            "text/plain": [
              "<Figure size 288x216 with 1 Axes>"
            ],
            "image/png": "[encoded data removed]"
          },
          "metadata": {
            "needs_background": "light"
          }
        }
      ]
    },
    {
      "cell_type": "markdown",
      "source": [
        "**Time in Hospital column**"
      ],
      "metadata": {
        "id": "UnqgV7aJq1Y7"
      }
    },
    {
      "cell_type": "code",
      "source": [
        "# display time in hospital distribution\n",
        "f, plot = plt.subplots(figsize=(4, 3))\n",
        "plot = sns.kdeplot(df.loc[(df['readmitted'] == 0),'time_in_hospital'] , color='g',shade=True,label='Not Readmitted')\n",
        "plot = sns.kdeplot(df.loc[(df['readmitted'] == 1),'time_in_hospital'] , color='y',shade=True, label='Readmitted')\n",
        "plot.set(xlabel='Time in Hospital', ylabel='Frequency')\n",
        "plt.title('Time in Hospital VS. Readmission')"
      ],
      "metadata": {
        "colab": {
          "base_uri": "https://localhost:8080/",
          "height": 258
        },
        "id": "ykBrpE2hq2C1",
        "outputId": "d5eeb5c0-57a0-4ec0-b7ea-2ef31ad52484"
      },
      "execution_count": null,
      "outputs": [
        {
          "output_type": "execute_result",
          "data": {
            "text/plain": [
              "Text(0.5, 1.0, 'Time in Hospital VS. Readmission')"
            ]
          },
          "metadata": {},
          "execution_count": 20
        },
        {
          "output_type": "display_data",
          "data": {
            "text/plain": [
              "<Figure size 288x216 with 1 Axes>"
            ],
            "image/png": "[encoded data removed]"
          },
          "metadata": {
            "needs_background": "light"
          }
        }
      ]
    },
    {
      "cell_type": "markdown",
      "source": [
        "**Race column**"
      ],
      "metadata": {
        "id": "uMCP4vjg1ZxJ"
      }
    },
    {
      "cell_type": "code",
      "metadata": {
        "id": "mC0R4owc_wLZ",
        "colab": {
          "base_uri": "https://localhost:8080/",
          "height": 227
        },
        "outputId": "4acbb8e2-e636-4cab-efd1-1a2ff6fb86a3"
      },
      "source": [
        "# display race distribution\n",
        "f, plot = plt.subplots(figsize=(4, 3))\n",
        "plot = df.groupby(['race'])['encounter_id'].count().plot(kind='pie',autopct='%1.f%%')\n",
        "plt.title('Race Distribution')\n",
        "plot"
      ],
      "execution_count": null,
      "outputs": [
        {
          "output_type": "execute_result",
          "data": {
            "text/plain": [
              "<matplotlib.axes._subplots.AxesSubplot at 0x7f0b295e2150>"
            ]
          },
          "metadata": {},
          "execution_count": 21
        },
        {
          "output_type": "display_data",
          "data": {
            "text/plain": [
              "<Figure size 288x216 with 1 Axes>"
            ],
            "image/png": "[encoded data removed]"
          },
          "metadata": {}
        }
      ]
    },
    {
      "cell_type": "code",
      "metadata": {
        "id": "Qem0qYLVADUC"
      },
      "source": [
        "# encoding race variable\n",
        "df.race.replace({'Caucasian': 0.77, 'AfricanAmerican': 0.19, 'Asian': 0.01,'Hispanic':0.02,'Other':0.02},inplace=True)"
      ],
      "execution_count": null,
      "outputs": []
    },
    {
      "cell_type": "markdown",
      "metadata": {
        "id": "1k0KJGbeedAi"
      },
      "source": [
        "**Admission Source column**"
      ]
    },
    {
      "cell_type": "code",
      "source": [
        "# display admision source \n",
        "# for example: 1-physician reffer, 7-emergency room, etc.\n",
        "f, plot = plt.subplots(figsize=(4, 3))\n",
        "plot = sns.countplot(x=\"admission_source_id\", data=df, hue=\"readmitted\", palette=\"bwr\")\n",
        "plot.set_title(\"Readmitted by Admission Source\")\n",
        "plt.show()"
      ],
      "metadata": {
        "colab": {
          "base_uri": "https://localhost:8080/",
          "height": 242
        },
        "id": "m9r13MyY7pEM",
        "outputId": "164f1328-2fa7-42e1-c813-52a7ccdeb2bd"
      },
      "execution_count": null,
      "outputs": [
        {
          "output_type": "display_data",
          "data": {
            "text/plain": [
              "<Figure size 288x216 with 1 Axes>"
            ],
            "image/png": "[encoded data removed]"
          },
          "metadata": {
            "needs_background": "light"
          }
        }
      ]
    },
    {
      "cell_type": "code",
      "metadata": {
        "id": "5gXq6WyjPqK6"
      },
      "source": [
        "# encoding admission source\n",
        "emergency = [7,10,22,25]\n",
        "health_org = [1,2,3,6,8,11,12,13,14,18,19]\n",
        "hospital = [4,5]\n",
        "other = [9,15,17,20,21]\n",
        "\n",
        "encode_admission_source_id = lambda x: 1 if x in emergency else 2 if x in health_org else 3 if x in hospital else 4 if x in other else x\n",
        "df['admission_source_id'] = df['admission_source_id'].map(encode_admission_source_id)"
      ],
      "execution_count": null,
      "outputs": []
    },
    {
      "cell_type": "code",
      "source": [
        "# display encoded admission source\n",
        "df['admission_source_id'].value_counts()"
      ],
      "metadata": {
        "colab": {
          "base_uri": "https://localhost:8080/"
        },
        "id": "2Jz3XSR0-sJR",
        "outputId": "2c741fef-61aa-495a-c217-58e7cf2f76e3"
      },
      "execution_count": null,
      "outputs": [
        {
          "output_type": "execute_result",
          "data": {
            "text/plain": [
              "1    55972\n",
              "2    31478\n",
              "4     6811\n",
              "3     3791\n",
              "Name: admission_source_id, dtype: int64"
            ]
          },
          "metadata": {},
          "execution_count": 25
        }
      ]
    },
    {
      "cell_type": "markdown",
      "source": [
        "**Admission Type column**"
      ],
      "metadata": {
        "id": "QkeIZpiF7jPb"
      }
    },
    {
      "cell_type": "code",
      "metadata": {
        "id": "ukVJmTTwcJJj",
        "colab": {
          "base_uri": "https://localhost:8080/",
          "height": 242
        },
        "outputId": "9e198743-b029-4178-dd5a-98aa8b250f6f"
      },
      "source": [
        "# display admission type \n",
        "# for example: 1-Emergency,\t2-Urgent,\t3-Elective,\t4-Newborn,\t5-Not Available,\t6-NULL,\t7-Trauma,\t8-Not Mapped.\n",
        "f, plot = plt.subplots(figsize=(4, 3))\n",
        "plot = sns.countplot(x=\"admission_type_id\", data=df, hue=\"readmitted\", palette=\"bwr\")\n",
        "plot.set_title(\"Readmitted by Admission Type\")\n",
        "plt.show()"
      ],
      "execution_count": null,
      "outputs": [
        {
          "output_type": "display_data",
          "data": {
            "text/plain": [
              "<Figure size 288x216 with 1 Axes>"
            ],
            "image/png": "[encoded data removed]"
          },
          "metadata": {
            "needs_background": "light"
          }
        }
      ]
    },
    {
      "cell_type": "code",
      "metadata": {
        "id": "VuhlMik6HeA0"
      },
      "source": [
        "# encoding admission type\n",
        "encode_admission_type_id = lambda x: 2 if x == 7 or x == 4 else 5 if x == 6 else 5 if x == 8 else x\n",
        "df['admission_type_id'] = df['admission_type_id'].map(encode_admission_type_id)"
      ],
      "execution_count": null,
      "outputs": []
    },
    {
      "cell_type": "code",
      "source": [
        "# display encoded type\n",
        "df['admission_type_id'].value_counts()"
      ],
      "metadata": {
        "colab": {
          "base_uri": "https://localhost:8080/"
        },
        "id": "v4bQo8vC_GJI",
        "outputId": "e59e556c-a9d0-4de2-fd55-b1a11b984d4d"
      },
      "execution_count": null,
      "outputs": [
        {
          "output_type": "execute_result",
          "data": {
            "text/plain": [
              "1    52178\n",
              "3    18193\n",
              "2    17573\n",
              "5    10108\n",
              "Name: admission_type_id, dtype: int64"
            ]
          },
          "metadata": {},
          "execution_count": 28
        }
      ]
    },
    {
      "cell_type": "markdown",
      "source": [
        "**Admission Source and Admission Type encoding**"
      ],
      "metadata": {
        "id": "TqpuUnEiBMBJ"
      }
    },
    {
      "cell_type": "code",
      "metadata": {
        "id": "WLGlpBcScZpd"
      },
      "source": [
        "df['admission_source_id'] = np.where((df['admission_type_id'] ==1) & (df['admission_source_id'] ==4), 1, \n",
        "                                  np.where((df['admission_type_id'] ==2) & (df['admission_source_id'] ==4), 2, \n",
        "                                  np.where((df['admission_type_id'] ==3) & (df['admission_source_id'] ==4), 3, \n",
        "                                  np.where((df['admission_type_id'] ==5) & (df['admission_source_id'] ==4), 3,\n",
        "                                           df['admission_source_id']))))\n",
        "\n",
        "df['admission_type_id'] = np.where((df['admission_type_id'] ==5) & (df['admission_source_id'] ==1), 1, \n",
        "                                  np.where((df['admission_type_id'] ==5) & (df['admission_source_id'] ==2), 2, \n",
        "                                  np.where((df['admission_type_id'] ==5) & (df['admission_source_id'] ==3), 3,\n",
        "                                           df['admission_type_id'])))"
      ],
      "execution_count": null,
      "outputs": []
    },
    {
      "cell_type": "code",
      "metadata": {
        "id": "lh_ZLCnuYnfk"
      },
      "source": [
        "df['admission_type_id'].replace({1:'Emergency', 2:'Urgent', 3:'Elective'},inplace=True)"
      ],
      "execution_count": null,
      "outputs": []
    },
    {
      "cell_type": "markdown",
      "metadata": {
        "id": "FBS71tu-a6Sa"
      },
      "source": [
        "**Discharge column**"
      ]
    },
    {
      "cell_type": "code",
      "metadata": {
        "id": "tuG9bKxqdqbH",
        "colab": {
          "base_uri": "https://localhost:8080/",
          "height": 242
        },
        "outputId": "76d6e3ac-dcaa-4fab-9c81-041ab5d7ef28"
      },
      "source": [
        "# display discharge \n",
        "f, plot = plt.subplots(figsize=(10, 3))\n",
        "plot = sns.countplot(x=\"discharge_disposition_id\", data=df, hue=\"readmitted\", palette=\"bwr\")\n",
        "plot.set_title(\"Readmitted by Discharge\")\n",
        "plt.show()"
      ],
      "execution_count": null,
      "outputs": [
        {
          "output_type": "display_data",
          "data": {
            "text/plain": [
              "<Figure size 720x216 with 1 Axes>"
            ],
            "image/png": "[encoded data removed]"
          },
          "metadata": {
            "needs_background": "light"
          }
        }
      ]
    },
    {
      "cell_type": "code",
      "metadata": {
        "id": "soyLC-qxEFCt"
      },
      "source": [
        "# encoding discharge\n",
        "home = [1,6,7,8]\n",
        "HO = [2,3,4,5,16,17]\n",
        "expired = [11,13,14,19,20,21]\n",
        "hospital = [9,10,12,15,22,23,24,27,28,29,30]\n",
        "other = [18,25,26]\n",
        "\n",
        "encode_discharge_disposition_id = lambda x: 'home' if x in home else 'HO' if x in HO else 'expired' if x in expired else 'hospital' if x in hospital else 'other'\n",
        "df['discharge_disposition_id'] = df['discharge_disposition_id'].map(encode_discharge_disposition_id)"
      ],
      "execution_count": null,
      "outputs": []
    },
    {
      "cell_type": "code",
      "source": [
        "# display encoded discharge\n",
        "df['discharge_disposition_id'].value_counts()"
      ],
      "metadata": {
        "colab": {
          "base_uri": "https://localhost:8080/"
        },
        "id": "LzvmGwoBDlHt",
        "outputId": "5ef4140c-0c57-4e99-f24e-801d73a9d211"
      },
      "execution_count": null,
      "outputs": [
        {
          "output_type": "execute_result",
          "data": {
            "text/plain": [
              "home        70933\n",
              "HO          17521\n",
              "other        4565\n",
              "hospital     2653\n",
              "expired      2380\n",
              "Name: discharge_disposition_id, dtype: int64"
            ]
          },
          "metadata": {},
          "execution_count": 33
        }
      ]
    },
    {
      "cell_type": "markdown",
      "metadata": {
        "id": "NR7XlnY_G7co"
      },
      "source": [
        "**Diagnoses columns**"
      ]
    },
    {
      "cell_type": "code",
      "source": [
        "# the 3 types of diagnosis are: diag_1 - primary, diag_2 - secondary, diag_3 - additional.\n",
        "# use only primary diagnosis in the model\n",
        "df = df.drop(['diag_2', 'diag_3'], axis=1)"
      ],
      "metadata": {
        "id": "-eQrpEvaMGkL"
      },
      "execution_count": null,
      "outputs": []
    },
    {
      "cell_type": "code",
      "metadata": {
        "id": "JJIcIIPo1n6Q"
      },
      "source": [
        "# encoding diag_1 column (using ICD codes)\n",
        "df['diag_1'] = df['diag_1'].str.replace(r'\\D', '') \n",
        "df['diag_1'] = df['diag_1'].str.replace('250', '2500')\n",
        "df = df.astype({'diag_1':np.int})\n",
        "\n",
        "Infectious = range(0,140)\n",
        "Neoplasms = range(140,240)\n",
        "Endocrine = range(240,280)\n",
        "Diabetes = range(2500,251000)\n",
        "Blood = range(280, 290)\n",
        "Mental = range(290,320)\n",
        "Nerve = range(320,390)\n",
        "Circulatory = range(390,460)\n",
        "Respiratory = range(460,520)\n",
        "Digetsive = range(520,580)\n",
        "Genitourinary =range(580,630)\n",
        "Pregnancy = range(630,680)\n",
        "Skin = range(680,710)\n",
        "Musculoskeleta = range(710,740)\n",
        "Congenital =range(740,760)\n",
        "Perinatal =range(760,780)\n",
        "Symptoms =range(780,800)\n",
        "Injury =range(800,999)\n",
        "Other= range(999,2223)\n",
        "\n",
        "encode_diagnoses = lambda x: 'Infectious' if x in Infectious else 'Neoplasms' if x in Neoplasms else 'Endocrine' if x in Endocrine \\\n",
        "              else 'Diabetes' if x in Diabetes else 'Blood' if x in Blood else 'Mental' if x in Mental \\\n",
        "              else 'Nerve' if x in Nerve else 'Circulatory' if x in Circulatory else 'Respiratory' if x in Respiratory \\\n",
        "              else 'Digetsive' if x in Digetsive else 'Genitourinary' if x in Genitourinary else 'Pregnancy' if x in Pregnancy\\\n",
        "              else 'Skin' if x in Skin else 'Musculoskeleta' if x in Musculoskeleta else 'Congenital' if x in Congenital  \\\n",
        "              else 'Perinatal' if x in Perinatal else 'Symptoms' if x in Symptoms else 'Injury' if x in Injury  \\\n",
        "              else 'Other'\n",
        "\n",
        "df['diag_1'] = df['diag_1'].map(encode_diagnoses)"
      ],
      "execution_count": null,
      "outputs": []
    },
    {
      "cell_type": "code",
      "source": [
        "# display encoded diag_1 \n",
        "f, plot = plt.subplots(figsize=(5, 3))\n",
        "plot = sns.countplot(x=\"diag_1\", data=df, hue=\"readmitted\", palette=\"bwr\")\n",
        "plot.tick_params(axis='x', rotation=90)\n",
        "plot.set_title(\"Readmitted by Diagnosis\")\n",
        "plt.show()"
      ],
      "metadata": {
        "colab": {
          "base_uri": "https://localhost:8080/",
          "height": 309
        },
        "id": "e3DUSYjPcOb3",
        "outputId": "c36c4a53-4e50-407c-d788-531a4cc897bf"
      },
      "execution_count": null,
      "outputs": [
        {
          "output_type": "display_data",
          "data": {
            "text/plain": [
              "<Figure size 360x216 with 1 Axes>"
            ],
            "image/png": "[encoded data removed]"
          },
          "metadata": {
            "needs_background": "light"
          }
        }
      ]
    },
    {
      "cell_type": "markdown",
      "source": [
        "**Add Diabetes column**"
      ],
      "metadata": {
        "id": "k6xWRjnWeJhG"
      }
    },
    {
      "cell_type": "code",
      "source": [
        "df['diabetesMed'].value_counts()"
      ],
      "metadata": {
        "colab": {
          "base_uri": "https://localhost:8080/"
        },
        "id": "zBZz8jQEeRIG",
        "outputId": "98e0e580-0898-4e67-86a1-19dd44625db3"
      },
      "execution_count": null,
      "outputs": [
        {
          "output_type": "execute_result",
          "data": {
            "text/plain": [
              "Yes    75350\n",
              "No     22702\n",
              "Name: diabetesMed, dtype: int64"
            ]
          },
          "metadata": {},
          "execution_count": 37
        }
      ]
    },
    {
      "cell_type": "code",
      "source": [
        "df['diag_1'][df['diag_1'] == 'Diabetes'].value_counts()"
      ],
      "metadata": {
        "colab": {
          "base_uri": "https://localhost:8080/"
        },
        "id": "wMLSMlX8ebpA",
        "outputId": "7927b1ff-e8d8-4228-cf2c-146bbe462016"
      },
      "execution_count": null,
      "outputs": [
        {
          "output_type": "execute_result",
          "data": {
            "text/plain": [
              "Diabetes    7965\n",
              "Name: diag_1, dtype: int64"
            ]
          },
          "metadata": {},
          "execution_count": 39
        }
      ]
    },
    {
      "cell_type": "code",
      "metadata": {
        "id": "iv55pRrN86CC"
      },
      "source": [
        "# encode diabetes column\n",
        "def diabetes (row) :\n",
        "    if row.loc['diag_1'] == 'Diabetes':\n",
        "        return '1'\n",
        "    if row.loc['diabetesMed'] == 'Yes':\n",
        "        return '1'\n",
        "    else:\n",
        "        return \"0\"\n",
        "df['diag_diabetes'] = df.apply(diabetes, axis=1)"
      ],
      "execution_count": null,
      "outputs": []
    },
    {
      "cell_type": "code",
      "source": [
        "df['diag_diabetes'].value_counts()"
      ],
      "metadata": {
        "colab": {
          "base_uri": "https://localhost:8080/"
        },
        "id": "4qfXbmxxgVG7",
        "outputId": "da89e196-f87e-499d-e291-179f12d7b1c0"
      },
      "execution_count": null,
      "outputs": [
        {
          "output_type": "execute_result",
          "data": {
            "text/plain": [
              "1    76587\n",
              "0    21465\n",
              "Name: diag_diabetes, dtype: int64"
            ]
          },
          "metadata": {},
          "execution_count": 41
        }
      ]
    },
    {
      "cell_type": "code",
      "metadata": {
        "id": "OoxpA_g_pTvK",
        "colab": {
          "base_uri": "https://localhost:8080/",
          "height": 242
        },
        "outputId": "1b3e2703-1cdc-4377-ee83-2b5fab50e59b"
      },
      "source": [
        "# display diabetes column\n",
        "f, plot = plt.subplots(figsize=(4, 3))\n",
        "plot = sns.countplot(x=\"diag_diabetes\", data=df, hue=\"readmitted\", palette=\"bwr\")\n",
        "plot.set_title(\"Readmitted by Diabetes\")\n",
        "plt.show()"
      ],
      "execution_count": null,
      "outputs": [
        {
          "output_type": "display_data",
          "data": {
            "text/plain": [
              "<Figure size 288x216 with 1 Axes>"
            ],
            "image/png": "[encoded data removed]"
          },
          "metadata": {
            "needs_background": "light"
          }
        }
      ]
    },
    {
      "cell_type": "markdown",
      "metadata": {
        "id": "jmrzo54ZkWkk"
      },
      "source": [
        "**Add number of medication changes column**"
      ]
    },
    {
      "cell_type": "code",
      "metadata": {
        "id": "qCXLeia6lzL5",
        "colab": {
          "base_uri": "https://localhost:8080/"
        },
        "outputId": "a70555c2-c226-4029-ec4a-dd68dd851b68"
      },
      "source": [
        "keys = ['metformin', 'repaglinide', 'nateglinide',\n",
        "       'chlorpropamide', 'glimepiride', 'acetohexamide', 'glipizide',\n",
        "       'glyburide', 'tolbutamide', 'pioglitazone', 'rosiglitazone', 'acarbose',\n",
        "       'miglitol', 'troglitazone', 'tolazamide', 'examide', 'citoglipton',\n",
        "       'insulin', 'glyburide-metformin', 'glipizide-metformin',\n",
        "       'glimepiride-pioglitazone', 'metformin-rosiglitazone',\n",
        "       'metformin-pioglitazone']\n",
        "\n",
        "for col in keys:\n",
        "    colname = str(col) + 'temp'\n",
        "    df[colname] = df[col].apply(lambda x: 0 if (x == 'No' or x == 'Steady') else 1)\n",
        "\n",
        "df['med_changes'] = 0\n",
        "\n",
        "for col in keys:\n",
        "    colname = str(col) + 'temp'\n",
        "    df['med_changes'] = df['med_changes'] + df[colname]\n",
        "    del df[colname]\n",
        "    \n",
        "df['med_changes'].value_counts() "
      ],
      "execution_count": null,
      "outputs": [
        {
          "output_type": "execute_result",
          "data": {
            "text/plain": [
              "0    71309\n",
              "1    25350\n",
              "2     1281\n",
              "3      107\n",
              "4        5\n",
              "Name: med_changes, dtype: int64"
            ]
          },
          "metadata": {},
          "execution_count": 43
        }
      ]
    },
    {
      "cell_type": "code",
      "source": [
        "# encode keys columns\n",
        "for col in keys:\n",
        "    df[col] = df[col].replace('No', 0)\n",
        "    df[col] = df[col].replace('Steady', 1)\n",
        "    df[col] = df[col].replace('Up', 1)\n",
        "    df[col] = df[col].replace('Down', 1)"
      ],
      "metadata": {
        "id": "VgSCJhVp21p_"
      },
      "execution_count": null,
      "outputs": []
    },
    {
      "cell_type": "markdown",
      "source": [
        "**Add number of tests**"
      ],
      "metadata": {
        "id": "AsAUAx6RvqE4"
      }
    },
    {
      "cell_type": "code",
      "metadata": {
        "id": "DEvUxY_OESTg"
      },
      "source": [
        "df['tests_amount'] = df['num_lab_procedures'] + df['num_procedures']"
      ],
      "execution_count": null,
      "outputs": []
    },
    {
      "cell_type": "code",
      "metadata": {
        "id": "UFuRh6iIl8oW",
        "colab": {
          "base_uri": "https://localhost:8080/",
          "height": 280
        },
        "outputId": "59a66fc3-383e-46e1-947d-a960e5100bbb"
      },
      "source": [
        "sns.distplot(df['tests_amount'],kde = True);"
      ],
      "execution_count": null,
      "outputs": [
        {
          "output_type": "display_data",
          "data": {
            "text/plain": [
              "<Figure size 432x288 with 1 Axes>"
            ],
            "image/png": "[encoded data removed]"
          },
          "metadata": {
            "needs_background": "light"
          }
        }
      ]
    },
    {
      "cell_type": "markdown",
      "source": [
        "**Encode diagnosis column (diag_1)**"
      ],
      "metadata": {
        "id": "FJCaIoenxwAy"
      }
    },
    {
      "cell_type": "code",
      "source": [
        "df['diag_1'].unique()"
      ],
      "metadata": {
        "colab": {
          "base_uri": "https://localhost:8080/"
        },
        "id": "HSChf6OsxsiT",
        "outputId": "a4918002-e732-4b48-f01b-cbd1b39d4c57"
      },
      "execution_count": null,
      "outputs": [
        {
          "output_type": "execute_result",
          "data": {
            "text/plain": [
              "array(['Endocrine', 'Pregnancy', 'Infectious', 'Neoplasms', 'Circulatory',\n",
              "       'Diabetes', 'Respiratory', 'Other', 'Skin', 'Symptoms', 'Injury',\n",
              "       'Genitourinary', 'Mental', 'Musculoskeleta', 'Digetsive', 'Nerve',\n",
              "       'Blood', 'Congenital'], dtype=object)"
            ]
          },
          "metadata": {},
          "execution_count": 47
        }
      ]
    },
    {
      "cell_type": "code",
      "source": [
        "df.groupby(['diag_1'])['encounter_id'].count()/len(df)"
      ],
      "metadata": {
        "colab": {
          "base_uri": "https://localhost:8080/"
        },
        "id": "YcmCQX_JyFSq",
        "outputId": "4b4be3c9-a8fb-4fdc-f6eb-f2fe4db2952c"
      },
      "execution_count": null,
      "outputs": [
        {
          "output_type": "execute_result",
          "data": {
            "text/plain": [
              "diag_1\n",
              "Blood             0.011004\n",
              "Circulatory       0.301157\n",
              "Congenital        0.000510\n",
              "Diabetes          0.081232\n",
              "Digetsive         0.091054\n",
              "Endocrine         0.026435\n",
              "Genitourinary     0.050453\n",
              "Infectious        0.043742\n",
              "Injury            0.068097\n",
              "Mental            0.021876\n",
              "Musculoskeleta    0.048331\n",
              "Neoplasms         0.033778\n",
              "Nerve             0.011932\n",
              "Other             0.000275\n",
              "Pregnancy         0.006578\n",
              "Respiratory       0.102935\n",
              "Skin              0.024864\n",
              "Symptoms          0.075746\n",
              "Name: encounter_id, dtype: float64"
            ]
          },
          "metadata": {},
          "execution_count": 48
        }
      ]
    },
    {
      "cell_type": "code",
      "metadata": {
        "id": "pri5hAp8uGrP"
      },
      "source": [
        "df.replace(to_replace=['Blood', 'Circulatory', 'Congenital', 'Diabetes',\n",
        "                             'Digetsive','Endocrine', 'Genitourinary', 'Infectious', 'Injury',\n",
        "                             'Mental', 'Musculoskeleta','Neoplasms', 'Nerve',\n",
        "                             'Other', 'Pregnancy', 'Respiratory','Skin', 'Symptoms'],\n",
        "           value= [0.011004, 0.301157, 0.000510, 0.081232, 0.091054, 0.026435, 0.050453, 0.043742,\n",
        "                   0.068097, 0.021876, 0.048331, 0.033778, 0.011932, 0.000275, 0.006578, 0.102935, 0.024864, 0.075746], \n",
        "           inplace=True)      "
      ],
      "execution_count": null,
      "outputs": []
    },
    {
      "cell_type": "markdown",
      "metadata": {
        "id": "tJ3DRNTS00fb"
      },
      "source": [
        "**Drop columns**"
      ]
    },
    {
      "cell_type": "code",
      "metadata": {
        "id": "DEgfrMWr-2UH"
      },
      "source": [
        "col_todrop = ['encounter_id', 'patient_nbr','admission_source_id','num_lab_procedures','num_procedures','number_outpatient',\n",
        "       'number_inpatient','max_glu_serum', 'A1Cresult','repaglinide', 'nateglinide','diag_1', 'number_emergency',\n",
        "       'chlorpropamide','acetohexamide','tolbutamide','acarbose','miglitol', 'troglitazone', 'tolazamide', 'examide', 'citoglipton',\n",
        "       'glyburide-metformin', 'glipizide-metformin','glimepiride-pioglitazone', 'metformin-rosiglitazone', 'metformin-pioglitazone',\n",
        "       'change','number_diagnoses', 'diabetesMed']"
      ],
      "execution_count": null,
      "outputs": []
    },
    {
      "cell_type": "code",
      "metadata": {
        "id": "HL6O0QmQQA-6",
        "colab": {
          "base_uri": "https://localhost:8080/",
          "height": 206
        },
        "outputId": "09adb419-5a22-4423-b77d-e582e66e83c8"
      },
      "source": [
        "df_new = df.drop(col_todrop, axis =1).copy()\n",
        "df_new.head()"
      ],
      "execution_count": null,
      "outputs": [
        {
          "output_type": "execute_result",
          "data": {
            "text/plain": [
              "   race  gender  age admission_type_id discharge_disposition_id  \\\n",
              "1  0.77  Female   15         Emergency                     home   \n",
              "2  0.19  Female   25         Emergency                     home   \n",
              "3  0.77    Male   35         Emergency                     home   \n",
              "4  0.77    Male   45         Emergency                     home   \n",
              "5  0.77    Male   55            Urgent                     home   \n",
              "\n",
              "   time_in_hospital  num_medications  metformin  glimepiride  glipizide  \\\n",
              "1                 3               18          0            0          0   \n",
              "2                 2               13          0            0          1   \n",
              "3                 2               16          0            0          0   \n",
              "4                 1                8          0            0          1   \n",
              "5                 3               16          0            0          0   \n",
              "\n",
              "   glyburide  pioglitazone  rosiglitazone  insulin  readmitted diag_diabetes  \\\n",
              "1          0             0              0        1           0             1   \n",
              "2          0             0              0        0           0             1   \n",
              "3          0             0              0        1           0             1   \n",
              "4          0             0              0        1           0             1   \n",
              "5          0             0              0        1           0             1   \n",
              "\n",
              "   med_changes  tests_amount  \n",
              "1            1            59  \n",
              "2            0            16  \n",
              "3            1            45  \n",
              "4            0            51  \n",
              "5            0            37  "
            ],
            "text/html": [
              "\n",
              "  <div id=\"df-78967386-80bd-48fe-a03b-fe2e8a26fde6\">\n",
              "    <div class=\"colab-df-container\">\n",
              "      <div>\n",
              "<style scoped>\n",
              "    .dataframe tbody tr th:only-of-type {\n",
              "        vertical-align: middle;\n",
              "    }\n",
              "\n",
              "    .dataframe tbody tr th {\n",
              "        vertical-align: top;\n",
              "    }\n",
              "\n",
              "    .dataframe thead th {\n",
              "        text-align: right;\n",
              "    }\n",
              "</style>\n",
              "<table border=\"1\" class=\"dataframe\">\n",
              "  <thead>\n",
              "    <tr style=\"text-align: right;\">\n",
              "      <th></th>\n",
              "      <th>race</th>\n",
              "      <th>gender</th>\n",
              "      <th>age</th>\n",
              "      <th>admission_type_id</th>\n",
              "      <th>discharge_disposition_id</th>\n",
              "      <th>time_in_hospital</th>\n",
              "      <th>num_medications</th>\n",
              "      <th>metformin</th>\n",
              "      <th>glimepiride</th>\n",
              "      <th>glipizide</th>\n",
              "      <th>glyburide</th>\n",
              "      <th>pioglitazone</th>\n",
              "      <th>rosiglitazone</th>\n",
              "      <th>insulin</th>\n",
              "      <th>readmitted</th>\n",
              "      <th>diag_diabetes</th>\n",
              "      <th>med_changes</th>\n",
              "      <th>tests_amount</th>\n",
              "    </tr>\n",
              "  </thead>\n",
              "  <tbody>\n",
              "    <tr>\n",
              "      <th>1</th>\n",
              "      <td>0.77</td>\n",
              "      <td>Female</td>\n",
              "      <td>15</td>\n",
              "      <td>Emergency</td>\n",
              "      <td>home</td>\n",
              "      <td>3</td>\n",
              "      <td>18</td>\n",
              "      <td>0</td>\n",
              "      <td>0</td>\n",
              "      <td>0</td>\n",
              "      <td>0</td>\n",
              "      <td>0</td>\n",
              "      <td>0</td>\n",
              "      <td>1</td>\n",
              "      <td>0</td>\n",
              "      <td>1</td>\n",
              "      <td>1</td>\n",
              "      <td>59</td>\n",
              "    </tr>\n",
              "    <tr>\n",
              "      <th>2</th>\n",
              "      <td>0.19</td>\n",
              "      <td>Female</td>\n",
              "      <td>25</td>\n",
              "      <td>Emergency</td>\n",
              "      <td>home</td>\n",
              "      <td>2</td>\n",
              "      <td>13</td>\n",
              "      <td>0</td>\n",
              "      <td>0</td>\n",
              "      <td>1</td>\n",
              "      <td>0</td>\n",
              "      <td>0</td>\n",
              "      <td>0</td>\n",
              "      <td>0</td>\n",
              "      <td>0</td>\n",
              "      <td>1</td>\n",
              "      <td>0</td>\n",
              "      <td>16</td>\n",
              "    </tr>\n",
              "    <tr>\n",
              "      <th>3</th>\n",
              "      <td>0.77</td>\n",
              "      <td>Male</td>\n",
              "      <td>35</td>\n",
              "      <td>Emergency</td>\n",
              "      <td>home</td>\n",
              "      <td>2</td>\n",
              "      <td>16</td>\n",
              "      <td>0</td>\n",
              "      <td>0</td>\n",
              "      <td>0</td>\n",
              "      <td>0</td>\n",
              "      <td>0</td>\n",
              "      <td>0</td>\n",
              "      <td>1</td>\n",
              "      <td>0</td>\n",
              "      <td>1</td>\n",
              "      <td>1</td>\n",
              "      <td>45</td>\n",
              "    </tr>\n",
              "    <tr>\n",
              "      <th>4</th>\n",
              "      <td>0.77</td>\n",
              "      <td>Male</td>\n",
              "      <td>45</td>\n",
              "      <td>Emergency</td>\n",
              "      <td>home</td>\n",
              "      <td>1</td>\n",
              "      <td>8</td>\n",
              "      <td>0</td>\n",
              "      <td>0</td>\n",
              "      <td>1</td>\n",
              "      <td>0</td>\n",
              "      <td>0</td>\n",
              "      <td>0</td>\n",
              "      <td>1</td>\n",
              "      <td>0</td>\n",
              "      <td>1</td>\n",
              "      <td>0</td>\n",
              "      <td>51</td>\n",
              "    </tr>\n",
              "    <tr>\n",
              "      <th>5</th>\n",
              "      <td>0.77</td>\n",
              "      <td>Male</td>\n",
              "      <td>55</td>\n",
              "      <td>Urgent</td>\n",
              "      <td>home</td>\n",
              "      <td>3</td>\n",
              "      <td>16</td>\n",
              "      <td>0</td>\n",
              "      <td>0</td>\n",
              "      <td>0</td>\n",
              "      <td>0</td>\n",
              "      <td>0</td>\n",
              "      <td>0</td>\n",
              "      <td>1</td>\n",
              "      <td>0</td>\n",
              "      <td>1</td>\n",
              "      <td>0</td>\n",
              "      <td>37</td>\n",
              "    </tr>\n",
              "  </tbody>\n",
              "</table>\n",
              "</div>\n",
              "      <button class=\"colab-df-convert\" onclick=\"convertToInteractive('df-78967386-80bd-48fe-a03b-fe2e8a26fde6')\"\n",
              "              title=\"Convert this dataframe to an interactive table.\"\n",
              "              style=\"display:none;\">\n",
              "        \n",
              "  <svg xmlns=\"http://www.w3.org/2000/svg\" height=\"24px\"viewBox=\"0 0 24 24\"\n",
              "       width=\"24px\">\n",
              "    <path d=\"M0 0h24v24H0V0z\" fill=\"none\"/>\n",
              "    <path d=\"M18.56 5.44l.94 2.06.94-2.06 2.06-.94-2.06-.94-.94-2.06-.94 2.06-2.06.94zm-11 1L8.5 8.5l.94-2.06 2.06-.94-2.06-.94L8.5 2.5l-.94 2.06-2.06.94zm10 10l.94 2.06.94-2.06 2.06-.94-2.06-.94-.94-2.06-.94 2.06-2.06.94z\"/><path d=\"M17.41 7.96l-1.37-1.37c-.4-.4-.92-.59-1.43-.59-.52 0-1.04.2-1.43.59L10.3 9.45l-7.72 7.72c-.78.78-.78 2.05 0 2.83L4 21.41c.39.39.9.59 1.41.59.51 0 1.02-.2 1.41-.59l7.78-7.78 2.81-2.81c.8-.78.8-2.07 0-2.86zM5.41 20L4 18.59l7.72-7.72 1.47 1.35L5.41 20z\"/>\n",
              "  </svg>\n",
              "      </button>\n",
              "      \n",
              "  <style>\n",
              "    .colab-df-container {\n",
              "      display:flex;\n",
              "      flex-wrap:wrap;\n",
              "      gap: 12px;\n",
              "    }\n",
              "\n",
              "    .colab-df-convert {\n",
              "      background-color: #E8F0FE;\n",
              "      border: none;\n",
              "      border-radius: 50%;\n",
              "      cursor: pointer;\n",
              "      display: none;\n",
              "      fill: #1967D2;\n",
              "      height: 32px;\n",
              "      padding: 0 0 0 0;\n",
              "      width: 32px;\n",
              "    }\n",
              "\n",
              "    .colab-df-convert:hover {\n",
              "      background-color: #E2EBFA;\n",
              "      box-shadow: 0px 1px 2px rgba(60, 64, 67, 0.3), 0px 1px 3px 1px rgba(60, 64, 67, 0.15);\n",
              "      fill: #174EA6;\n",
              "    }\n",
              "\n",
              "    [theme=dark] .colab-df-convert {\n",
              "      background-color: #3B4455;\n",
              "      fill: #D2E3FC;\n",
              "    }\n",
              "\n",
              "    [theme=dark] .colab-df-convert:hover {\n",
              "      background-color: #434B5C;\n",
              "      box-shadow: 0px 1px 3px 1px rgba(0, 0, 0, 0.15);\n",
              "      filter: drop-shadow(0px 1px 2px rgba(0, 0, 0, 0.3));\n",
              "      fill: #FFFFFF;\n",
              "    }\n",
              "  </style>\n",
              "\n",
              "      <script>\n",
              "        const buttonEl =\n",
              "          document.querySelector('#df-78967386-80bd-48fe-a03b-fe2e8a26fde6 button.colab-df-convert');\n",
              "        buttonEl.style.display =\n",
              "          google.colab.kernel.accessAllowed ? 'block' : 'none';\n",
              "\n",
              "        async function convertToInteractive(key) {\n",
              "          const element = document.querySelector('#df-78967386-80bd-48fe-a03b-fe2e8a26fde6');\n",
              "          const dataTable =\n",
              "            await google.colab.kernel.invokeFunction('convertToInteractive',\n",
              "                                                     [key], {});\n",
              "          if (!dataTable) return;\n",
              "\n",
              "          const docLinkHtml = 'Like what you see? Visit the ' +\n",
              "            '<a target=\"_blank\" href=https://colab.research.google.com/notebooks/data_table.ipynb>data table notebook</a>'\n",
              "            + ' to learn more about interactive tables.';\n",
              "          element.innerHTML = '';\n",
              "          dataTable['output_type'] = 'display_data';\n",
              "          await google.colab.output.renderOutput(dataTable, element);\n",
              "          const docLink = document.createElement('div');\n",
              "          docLink.innerHTML = docLinkHtml;\n",
              "          element.appendChild(docLink);\n",
              "        }\n",
              "      </script>\n",
              "    </div>\n",
              "  </div>\n",
              "  "
            ]
          },
          "metadata": {},
          "execution_count": 51
        }
      ]
    },
    {
      "cell_type": "markdown",
      "source": [
        "**Creat dummy variables**"
      ],
      "metadata": {
        "id": "5Q2on7iy9pCS"
      }
    },
    {
      "cell_type": "code",
      "source": [
        "df_new = pd.get_dummies(df_new)"
      ],
      "metadata": {
        "id": "n0JLUz9z9j2s"
      },
      "execution_count": null,
      "outputs": []
    },
    {
      "cell_type": "markdown",
      "source": [
        "# **Data Optimization Pre-Modeling**"
      ],
      "metadata": {
        "id": "UPyYb-S6-1PB"
      }
    },
    {
      "cell_type": "markdown",
      "metadata": {
        "id": "1dsSjfSvgVDq"
      },
      "source": [
        "**Split the dataset**"
      ]
    },
    {
      "cell_type": "code",
      "metadata": {
        "id": "ombeHyXigT7u"
      },
      "source": [
        "# declare feature vector and target variable\n",
        "X = df_new.drop('readmitted', axis=1)\n",
        "y = df_new['readmitted']\n",
        "\n",
        "# split the dataset\n",
        "X_train, X_test, y_train, y_test = train_test_split(X, y, test_size=0.3, random_state = 42)"
      ],
      "execution_count": null,
      "outputs": []
    },
    {
      "cell_type": "markdown",
      "source": [
        "**Balance the dataset**"
      ],
      "metadata": {
        "id": "Q90DgkJQ_pkV"
      }
    },
    {
      "cell_type": "code",
      "source": [
        "# check the balance of the dataset\n",
        "df_new['readmitted'].value_counts()"
      ],
      "metadata": {
        "colab": {
          "base_uri": "https://localhost:8080/"
        },
        "id": "YptGJpKX7-8N",
        "outputId": "6c1b2cfc-6844-4edb-d6ca-9845d9107a7a"
      },
      "execution_count": null,
      "outputs": [
        {
          "output_type": "execute_result",
          "data": {
            "text/plain": [
              "0    86986\n",
              "1    11066\n",
              "Name: readmitted, dtype: int64"
            ]
          },
          "metadata": {},
          "execution_count": 224
        }
      ]
    },
    {
      "cell_type": "code",
      "source": [
        "# balance the dataset\n",
        "smote = SMOTE(random_state=42)\n",
        "X_train, y_train = smote.fit_resample(X_train, y_train)"
      ],
      "metadata": {
        "id": "iAalH7w7_x3a"
      },
      "execution_count": null,
      "outputs": []
    },
    {
      "cell_type": "code",
      "source": [
        "# verify the dataset is balanced \n",
        "plt.figure(figsize = (4, 3))\n",
        "sns.countplot(y_train) \n",
        "plt.title('Readmitted After SMOTE')\n",
        "plt.show()"
      ],
      "metadata": {
        "colab": {
          "base_uri": "https://localhost:8080/",
          "height": 241
        },
        "id": "uLugjLBq_7Gq",
        "outputId": "2302081c-d863-4227-955b-3511297ed398"
      },
      "execution_count": null,
      "outputs": [
        {
          "output_type": "display_data",
          "data": {
            "text/plain": [
              "<Figure size 288x216 with 1 Axes>"
            ],
            "image/png": "[encoded data removed]"
          },
          "metadata": {
            "needs_background": "light"
          }
        }
      ]
    },
    {
      "cell_type": "markdown",
      "metadata": {
        "id": "Ov7CA-K9pTee"
      },
      "source": [
        "**Features Scaling**"
      ]
    },
    {
      "cell_type": "code",
      "source": [
        "X_train['age']=X_train['age']/100"
      ],
      "metadata": {
        "id": "z7VkWW6HByhX"
      },
      "execution_count": null,
      "outputs": []
    },
    {
      "cell_type": "code",
      "metadata": {
        "id": "Ms0bEsPn6H2Q"
      },
      "source": [
        "scale_cols = ['time_in_hospital','num_medications','tests_amount']"
      ],
      "execution_count": null,
      "outputs": []
    },
    {
      "cell_type": "code",
      "metadata": {
        "id": "m66vITes8du1"
      },
      "source": [
        "scaler = MinMaxScaler()\n",
        "X_train[scale_cols] = scaler.fit_transform(X_train[scale_cols].values)"
      ],
      "execution_count": null,
      "outputs": []
    },
    {
      "cell_type": "code",
      "metadata": {
        "id": "TFfq8Wd2dhKn",
        "colab": {
          "base_uri": "https://localhost:8080/",
          "height": 394
        },
        "outputId": "4b07c395-52db-4b3d-cb53-f0bdb1dc811f"
      },
      "source": [
        "X_train.describe()"
      ],
      "execution_count": null,
      "outputs": [
        {
          "output_type": "execute_result",
          "data": {
            "text/plain": [
              "                race            age  time_in_hospital  num_medications  \\\n",
              "count  121580.000000  121580.000000     121580.000000    121580.000000   \n",
              "mean        0.628927       0.664671          0.261844         0.191429   \n",
              "std         0.241571       0.155430          0.225078         0.100243   \n",
              "min         0.010000       0.050000          0.000000         0.000000   \n",
              "25%         0.548581       0.550000          0.076923         0.125000   \n",
              "50%         0.770000       0.650000          0.230769         0.175000   \n",
              "75%         0.770000       0.750000          0.384615         0.237500   \n",
              "max         0.770000       0.950000          1.000000         1.000000   \n",
              "\n",
              "           metformin    glimepiride      glipizide      glyburide  \\\n",
              "count  121580.000000  121580.000000  121580.000000  121580.000000   \n",
              "mean        0.126863       0.030819       0.080268       0.066105   \n",
              "std         0.332821       0.172828       0.271709       0.248466   \n",
              "min         0.000000       0.000000       0.000000       0.000000   \n",
              "25%         0.000000       0.000000       0.000000       0.000000   \n",
              "50%         0.000000       0.000000       0.000000       0.000000   \n",
              "75%         0.000000       0.000000       0.000000       0.000000   \n",
              "max         1.000000       1.000000       1.000000       1.000000   \n",
              "\n",
              "        pioglitazone  rosiglitazone  ...  admission_type_id_Elective  \\\n",
              "count  121580.000000  121580.000000  ...               121580.000000   \n",
              "mean        0.044226       0.037934  ...                    0.177611   \n",
              "std         0.205598       0.191037  ...                    0.382187   \n",
              "min         0.000000       0.000000  ...                    0.000000   \n",
              "25%         0.000000       0.000000  ...                    0.000000   \n",
              "50%         0.000000       0.000000  ...                    0.000000   \n",
              "75%         0.000000       0.000000  ...                    0.000000   \n",
              "max         1.000000       1.000000  ...                    1.000000   \n",
              "\n",
              "       admission_type_id_Emergency  admission_type_id_Urgent  \\\n",
              "count                121580.000000             121580.000000   \n",
              "mean                      0.496282                  0.141142   \n",
              "std                       0.499988                  0.348169   \n",
              "min                       0.000000                  0.000000   \n",
              "25%                       0.000000                  0.000000   \n",
              "50%                       0.000000                  0.000000   \n",
              "75%                       1.000000                  0.000000   \n",
              "max                       1.000000                  1.000000   \n",
              "\n",
              "       discharge_disposition_id_HO  discharge_disposition_id_expired  \\\n",
              "count                121580.000000                     121580.000000   \n",
              "mean                      0.144152                          0.013785   \n",
              "std                       0.351245                          0.116599   \n",
              "min                       0.000000                          0.000000   \n",
              "25%                       0.000000                          0.000000   \n",
              "50%                       0.000000                          0.000000   \n",
              "75%                       0.000000                          0.000000   \n",
              "max                       1.000000                          1.000000   \n",
              "\n",
              "       discharge_disposition_id_home  discharge_disposition_id_hospital  \\\n",
              "count                  121580.000000                      121580.000000   \n",
              "mean                        0.628072                           0.017914   \n",
              "std                         0.483321                           0.132640   \n",
              "min                         0.000000                           0.000000   \n",
              "25%                         0.000000                           0.000000   \n",
              "50%                         1.000000                           0.000000   \n",
              "75%                         1.000000                           0.000000   \n",
              "max                         1.000000                           1.000000   \n",
              "\n",
              "       discharge_disposition_id_other  diag_diabetes_0  diag_diabetes_1  \n",
              "count                   121580.000000    121580.000000    121580.000000  \n",
              "mean                         0.027743         0.154022         0.756769  \n",
              "std                          0.164236         0.360971         0.429035  \n",
              "min                          0.000000         0.000000         0.000000  \n",
              "25%                          0.000000         0.000000         1.000000  \n",
              "50%                          0.000000         0.000000         1.000000  \n",
              "75%                          0.000000         0.000000         1.000000  \n",
              "max                          1.000000         1.000000         1.000000  \n",
              "\n",
              "[8 rows x 25 columns]"
            ],
            "text/html": [
              "\n",
              "  <div id=\"df-ccdb6ff4-0a14-48f1-9eda-f0a62ea970e7\">\n",
              "    <div class=\"colab-df-container\">\n",
              "      <div>\n",
              "<style scoped>\n",
              "    .dataframe tbody tr th:only-of-type {\n",
              "        vertical-align: middle;\n",
              "    }\n",
              "\n",
              "    .dataframe tbody tr th {\n",
              "        vertical-align: top;\n",
              "    }\n",
              "\n",
              "    .dataframe thead th {\n",
              "        text-align: right;\n",
              "    }\n",
              "</style>\n",
              "<table border=\"1\" class=\"dataframe\">\n",
              "  <thead>\n",
              "    <tr style=\"text-align: right;\">\n",
              "      <th></th>\n",
              "      <th>race</th>\n",
              "      <th>age</th>\n",
              "      <th>time_in_hospital</th>\n",
              "      <th>num_medications</th>\n",
              "      <th>metformin</th>\n",
              "      <th>glimepiride</th>\n",
              "      <th>glipizide</th>\n",
              "      <th>glyburide</th>\n",
              "      <th>pioglitazone</th>\n",
              "      <th>rosiglitazone</th>\n",
              "      <th>...</th>\n",
              "      <th>admission_type_id_Elective</th>\n",
              "      <th>admission_type_id_Emergency</th>\n",
              "      <th>admission_type_id_Urgent</th>\n",
              "      <th>discharge_disposition_id_HO</th>\n",
              "      <th>discharge_disposition_id_expired</th>\n",
              "      <th>discharge_disposition_id_home</th>\n",
              "      <th>discharge_disposition_id_hospital</th>\n",
              "      <th>discharge_disposition_id_other</th>\n",
              "      <th>diag_diabetes_0</th>\n",
              "      <th>diag_diabetes_1</th>\n",
              "    </tr>\n",
              "  </thead>\n",
              "  <tbody>\n",
              "    <tr>\n",
              "      <th>count</th>\n",
              "      <td>121580.000000</td>\n",
              "      <td>121580.000000</td>\n",
              "      <td>121580.000000</td>\n",
              "      <td>121580.000000</td>\n",
              "      <td>121580.000000</td>\n",
              "      <td>121580.000000</td>\n",
              "      <td>121580.000000</td>\n",
              "      <td>121580.000000</td>\n",
              "      <td>121580.000000</td>\n",
              "      <td>121580.000000</td>\n",
              "      <td>...</td>\n",
              "      <td>121580.000000</td>\n",
              "      <td>121580.000000</td>\n",
              "      <td>121580.000000</td>\n",
              "      <td>121580.000000</td>\n",
              "      <td>121580.000000</td>\n",
              "      <td>121580.000000</td>\n",
              "      <td>121580.000000</td>\n",
              "      <td>121580.000000</td>\n",
              "      <td>121580.000000</td>\n",
              "      <td>121580.000000</td>\n",
              "    </tr>\n",
              "    <tr>\n",
              "      <th>mean</th>\n",
              "      <td>0.628927</td>\n",
              "      <td>0.664671</td>\n",
              "      <td>0.261844</td>\n",
              "      <td>0.191429</td>\n",
              "      <td>0.126863</td>\n",
              "      <td>0.030819</td>\n",
              "      <td>0.080268</td>\n",
              "      <td>0.066105</td>\n",
              "      <td>0.044226</td>\n",
              "      <td>0.037934</td>\n",
              "      <td>...</td>\n",
              "      <td>0.177611</td>\n",
              "      <td>0.496282</td>\n",
              "      <td>0.141142</td>\n",
              "      <td>0.144152</td>\n",
              "      <td>0.013785</td>\n",
              "      <td>0.628072</td>\n",
              "      <td>0.017914</td>\n",
              "      <td>0.027743</td>\n",
              "      <td>0.154022</td>\n",
              "      <td>0.756769</td>\n",
              "    </tr>\n",
              "    <tr>\n",
              "      <th>std</th>\n",
              "      <td>0.241571</td>\n",
              "      <td>0.155430</td>\n",
              "      <td>0.225078</td>\n",
              "      <td>0.100243</td>\n",
              "      <td>0.332821</td>\n",
              "      <td>0.172828</td>\n",
              "      <td>0.271709</td>\n",
              "      <td>0.248466</td>\n",
              "      <td>0.205598</td>\n",
              "      <td>0.191037</td>\n",
              "      <td>...</td>\n",
              "      <td>0.382187</td>\n",
              "      <td>0.499988</td>\n",
              "      <td>0.348169</td>\n",
              "      <td>0.351245</td>\n",
              "      <td>0.116599</td>\n",
              "      <td>0.483321</td>\n",
              "      <td>0.132640</td>\n",
              "      <td>0.164236</td>\n",
              "      <td>0.360971</td>\n",
              "      <td>0.429035</td>\n",
              "    </tr>\n",
              "    <tr>\n",
              "      <th>min</th>\n",
              "      <td>0.010000</td>\n",
              "      <td>0.050000</td>\n",
              "      <td>0.000000</td>\n",
              "      <td>0.000000</td>\n",
              "      <td>0.000000</td>\n",
              "      <td>0.000000</td>\n",
              "      <td>0.000000</td>\n",
              "      <td>0.000000</td>\n",
              "      <td>0.000000</td>\n",
              "      <td>0.000000</td>\n",
              "      <td>...</td>\n",
              "      <td>0.000000</td>\n",
              "      <td>0.000000</td>\n",
              "      <td>0.000000</td>\n",
              "      <td>0.000000</td>\n",
              "      <td>0.000000</td>\n",
              "      <td>0.000000</td>\n",
              "      <td>0.000000</td>\n",
              "      <td>0.000000</td>\n",
              "      <td>0.000000</td>\n",
              "      <td>0.000000</td>\n",
              "    </tr>\n",
              "    <tr>\n",
              "      <th>25%</th>\n",
              "      <td>0.548581</td>\n",
              "      <td>0.550000</td>\n",
              "      <td>0.076923</td>\n",
              "      <td>0.125000</td>\n",
              "      <td>0.000000</td>\n",
              "      <td>0.000000</td>\n",
              "      <td>0.000000</td>\n",
              "      <td>0.000000</td>\n",
              "      <td>0.000000</td>\n",
              "      <td>0.000000</td>\n",
              "      <td>...</td>\n",
              "      <td>0.000000</td>\n",
              "      <td>0.000000</td>\n",
              "      <td>0.000000</td>\n",
              "      <td>0.000000</td>\n",
              "      <td>0.000000</td>\n",
              "      <td>0.000000</td>\n",
              "      <td>0.000000</td>\n",
              "      <td>0.000000</td>\n",
              "      <td>0.000000</td>\n",
              "      <td>1.000000</td>\n",
              "    </tr>\n",
              "    <tr>\n",
              "      <th>50%</th>\n",
              "      <td>0.770000</td>\n",
              "      <td>0.650000</td>\n",
              "      <td>0.230769</td>\n",
              "      <td>0.175000</td>\n",
              "      <td>0.000000</td>\n",
              "      <td>0.000000</td>\n",
              "      <td>0.000000</td>\n",
              "      <td>0.000000</td>\n",
              "      <td>0.000000</td>\n",
              "      <td>0.000000</td>\n",
              "      <td>...</td>\n",
              "      <td>0.000000</td>\n",
              "      <td>0.000000</td>\n",
              "      <td>0.000000</td>\n",
              "      <td>0.000000</td>\n",
              "      <td>0.000000</td>\n",
              "      <td>1.000000</td>\n",
              "      <td>0.000000</td>\n",
              "      <td>0.000000</td>\n",
              "      <td>0.000000</td>\n",
              "      <td>1.000000</td>\n",
              "    </tr>\n",
              "    <tr>\n",
              "      <th>75%</th>\n",
              "      <td>0.770000</td>\n",
              "      <td>0.750000</td>\n",
              "      <td>0.384615</td>\n",
              "      <td>0.237500</td>\n",
              "      <td>0.000000</td>\n",
              "      <td>0.000000</td>\n",
              "      <td>0.000000</td>\n",
              "      <td>0.000000</td>\n",
              "      <td>0.000000</td>\n",
              "      <td>0.000000</td>\n",
              "      <td>...</td>\n",
              "      <td>0.000000</td>\n",
              "      <td>1.000000</td>\n",
              "      <td>0.000000</td>\n",
              "      <td>0.000000</td>\n",
              "      <td>0.000000</td>\n",
              "      <td>1.000000</td>\n",
              "      <td>0.000000</td>\n",
              "      <td>0.000000</td>\n",
              "      <td>0.000000</td>\n",
              "      <td>1.000000</td>\n",
              "    </tr>\n",
              "    <tr>\n",
              "      <th>max</th>\n",
              "      <td>0.770000</td>\n",
              "      <td>0.950000</td>\n",
              "      <td>1.000000</td>\n",
              "      <td>1.000000</td>\n",
              "      <td>1.000000</td>\n",
              "      <td>1.000000</td>\n",
              "      <td>1.000000</td>\n",
              "      <td>1.000000</td>\n",
              "      <td>1.000000</td>\n",
              "      <td>1.000000</td>\n",
              "      <td>...</td>\n",
              "      <td>1.000000</td>\n",
              "      <td>1.000000</td>\n",
              "      <td>1.000000</td>\n",
              "      <td>1.000000</td>\n",
              "      <td>1.000000</td>\n",
              "      <td>1.000000</td>\n",
              "      <td>1.000000</td>\n",
              "      <td>1.000000</td>\n",
              "      <td>1.000000</td>\n",
              "      <td>1.000000</td>\n",
              "    </tr>\n",
              "  </tbody>\n",
              "</table>\n",
              "<p>8 rows × 25 columns</p>\n",
              "</div>\n",
              "      <button class=\"colab-df-convert\" onclick=\"convertToInteractive('df-ccdb6ff4-0a14-48f1-9eda-f0a62ea970e7')\"\n",
              "              title=\"Convert this dataframe to an interactive table.\"\n",
              "              style=\"display:none;\">\n",
              "        \n",
              "  <svg xmlns=\"http://www.w3.org/2000/svg\" height=\"24px\"viewBox=\"0 0 24 24\"\n",
              "       width=\"24px\">\n",
              "    <path d=\"M0 0h24v24H0V0z\" fill=\"none\"/>\n",
              "    <path d=\"M18.56 5.44l.94 2.06.94-2.06 2.06-.94-2.06-.94-.94-2.06-.94 2.06-2.06.94zm-11 1L8.5 8.5l.94-2.06 2.06-.94-2.06-.94L8.5 2.5l-.94 2.06-2.06.94zm10 10l.94 2.06.94-2.06 2.06-.94-2.06-.94-.94-2.06-.94 2.06-2.06.94z\"/><path d=\"M17.41 7.96l-1.37-1.37c-.4-.4-.92-.59-1.43-.59-.52 0-1.04.2-1.43.59L10.3 9.45l-7.72 7.72c-.78.78-.78 2.05 0 2.83L4 21.41c.39.39.9.59 1.41.59.51 0 1.02-.2 1.41-.59l7.78-7.78 2.81-2.81c.8-.78.8-2.07 0-2.86zM5.41 20L4 18.59l7.72-7.72 1.47 1.35L5.41 20z\"/>\n",
              "  </svg>\n",
              "      </button>\n",
              "      \n",
              "  <style>\n",
              "    .colab-df-container {\n",
              "      display:flex;\n",
              "      flex-wrap:wrap;\n",
              "      gap: 12px;\n",
              "    }\n",
              "\n",
              "    .colab-df-convert {\n",
              "      background-color: #E8F0FE;\n",
              "      border: none;\n",
              "      border-radius: 50%;\n",
              "      cursor: pointer;\n",
              "      display: none;\n",
              "      fill: #1967D2;\n",
              "      height: 32px;\n",
              "      padding: 0 0 0 0;\n",
              "      width: 32px;\n",
              "    }\n",
              "\n",
              "    .colab-df-convert:hover {\n",
              "      background-color: #E2EBFA;\n",
              "      box-shadow: 0px 1px 2px rgba(60, 64, 67, 0.3), 0px 1px 3px 1px rgba(60, 64, 67, 0.15);\n",
              "      fill: #174EA6;\n",
              "    }\n",
              "\n",
              "    [theme=dark] .colab-df-convert {\n",
              "      background-color: #3B4455;\n",
              "      fill: #D2E3FC;\n",
              "    }\n",
              "\n",
              "    [theme=dark] .colab-df-convert:hover {\n",
              "      background-color: #434B5C;\n",
              "      box-shadow: 0px 1px 3px 1px rgba(0, 0, 0, 0.15);\n",
              "      filter: drop-shadow(0px 1px 2px rgba(0, 0, 0, 0.3));\n",
              "      fill: #FFFFFF;\n",
              "    }\n",
              "  </style>\n",
              "\n",
              "      <script>\n",
              "        const buttonEl =\n",
              "          document.querySelector('#df-ccdb6ff4-0a14-48f1-9eda-f0a62ea970e7 button.colab-df-convert');\n",
              "        buttonEl.style.display =\n",
              "          google.colab.kernel.accessAllowed ? 'block' : 'none';\n",
              "\n",
              "        async function convertToInteractive(key) {\n",
              "          const element = document.querySelector('#df-ccdb6ff4-0a14-48f1-9eda-f0a62ea970e7');\n",
              "          const dataTable =\n",
              "            await google.colab.kernel.invokeFunction('convertToInteractive',\n",
              "                                                     [key], {});\n",
              "          if (!dataTable) return;\n",
              "\n",
              "          const docLinkHtml = 'Like what you see? Visit the ' +\n",
              "            '<a target=\"_blank\" href=https://colab.research.google.com/notebooks/data_table.ipynb>data table notebook</a>'\n",
              "            + ' to learn more about interactive tables.';\n",
              "          element.innerHTML = '';\n",
              "          dataTable['output_type'] = 'display_data';\n",
              "          await google.colab.output.renderOutput(dataTable, element);\n",
              "          const docLink = document.createElement('div');\n",
              "          docLink.innerHTML = docLinkHtml;\n",
              "          element.appendChild(docLink);\n",
              "        }\n",
              "      </script>\n",
              "    </div>\n",
              "  </div>\n",
              "  "
            ]
          },
          "metadata": {},
          "execution_count": 229
        }
      ]
    },
    {
      "cell_type": "markdown",
      "metadata": {
        "id": "pQ5YIDnhWzrB"
      },
      "source": [
        "#**Features Selection**"
      ]
    },
    {
      "cell_type": "code",
      "source": [
        "len(X_train.columns)"
      ],
      "metadata": {
        "colab": {
          "base_uri": "https://localhost:8080/"
        },
        "id": "vD-XVIt7D7ci",
        "outputId": "81a67730-0eb9-4a8f-f8df-6ce66244f7fa"
      },
      "execution_count": null,
      "outputs": [
        {
          "output_type": "execute_result",
          "data": {
            "text/plain": [
              "25"
            ]
          },
          "metadata": {},
          "execution_count": 230
        }
      ]
    },
    {
      "cell_type": "code",
      "source": [
        "# Create a function that choose a subset of the existing features which are the most \"important\":\n",
        "\n",
        "def get_best_features(X_train, y_train, num_of_features, features_names):\n",
        "  selector = SelectKBest(score_func=f_classif, k=num_of_features) # initiate the transformer \n",
        "  fit = selector.fit_transform(X_train, y_train) # fit it to our data\n",
        "  mask = selector.get_support() # list of booleans (i.e. if the features under/above threshold (true/false))\n",
        "  new_features = [] # list of K best features\n",
        "\n",
        "  for bool, feature in zip(mask, features_names):\n",
        "    if bool:\n",
        "      new_features.append(feature)\n",
        "  return pd.DataFrame(X_train, columns=new_features)"
      ],
      "metadata": {
        "id": "ueIlBPNzEV74"
      },
      "execution_count": null,
      "outputs": []
    },
    {
      "cell_type": "code",
      "metadata": {
        "id": "PJY_a1orgshj"
      },
      "source": [
        "features_names = list(X_train.columns)"
      ],
      "execution_count": null,
      "outputs": []
    },
    {
      "cell_type": "code",
      "source": [
        "# display new dataset with the new columns (i.e. the best features)\n",
        "X_train_k_sel = get_best_features(X_train,y_train,10,features_names)\n",
        "X_train_k_sel.head()"
      ],
      "metadata": {
        "colab": {
          "base_uri": "https://localhost:8080/",
          "height": 206
        },
        "id": "32qLuVKyEgzB",
        "outputId": "a84acf13-213c-4847-d9bd-f6f692b19d5a"
      },
      "execution_count": null,
      "outputs": [
        {
          "output_type": "execute_result",
          "data": {
            "text/plain": [
              "   metformin  glipizide  glyburide  pioglitazone  gender_Female  gender_Male  \\\n",
              "0          0          1          0             0              0            1   \n",
              "1          0          0          0             0              0            1   \n",
              "2          0          0          0             0              0            1   \n",
              "3          0          0          0             0              0            1   \n",
              "4          0          0          0             0              1            0   \n",
              "\n",
              "   admission_type_id_Elective  admission_type_id_Urgent  \\\n",
              "0                           0                         0   \n",
              "1                           0                         0   \n",
              "2                           0                         0   \n",
              "3                           1                         0   \n",
              "4                           1                         0   \n",
              "\n",
              "   discharge_disposition_id_home  diag_diabetes_0  \n",
              "0                              0                0  \n",
              "1                              1                1  \n",
              "2                              1                1  \n",
              "3                              1                0  \n",
              "4                              1                0  "
            ],
            "text/html": [
              "\n",
              "  <div id=\"df-5ee482e8-4987-4cbb-881f-9d4ea1d09e2d\">\n",
              "    <div class=\"colab-df-container\">\n",
              "      <div>\n",
              "<style scoped>\n",
              "    .dataframe tbody tr th:only-of-type {\n",
              "        vertical-align: middle;\n",
              "    }\n",
              "\n",
              "    .dataframe tbody tr th {\n",
              "        vertical-align: top;\n",
              "    }\n",
              "\n",
              "    .dataframe thead th {\n",
              "        text-align: right;\n",
              "    }\n",
              "</style>\n",
              "<table border=\"1\" class=\"dataframe\">\n",
              "  <thead>\n",
              "    <tr style=\"text-align: right;\">\n",
              "      <th></th>\n",
              "      <th>metformin</th>\n",
              "      <th>glipizide</th>\n",
              "      <th>glyburide</th>\n",
              "      <th>pioglitazone</th>\n",
              "      <th>gender_Female</th>\n",
              "      <th>gender_Male</th>\n",
              "      <th>admission_type_id_Elective</th>\n",
              "      <th>admission_type_id_Urgent</th>\n",
              "      <th>discharge_disposition_id_home</th>\n",
              "      <th>diag_diabetes_0</th>\n",
              "    </tr>\n",
              "  </thead>\n",
              "  <tbody>\n",
              "    <tr>\n",
              "      <th>0</th>\n",
              "      <td>0</td>\n",
              "      <td>1</td>\n",
              "      <td>0</td>\n",
              "      <td>0</td>\n",
              "      <td>0</td>\n",
              "      <td>1</td>\n",
              "      <td>0</td>\n",
              "      <td>0</td>\n",
              "      <td>0</td>\n",
              "      <td>0</td>\n",
              "    </tr>\n",
              "    <tr>\n",
              "      <th>1</th>\n",
              "      <td>0</td>\n",
              "      <td>0</td>\n",
              "      <td>0</td>\n",
              "      <td>0</td>\n",
              "      <td>0</td>\n",
              "      <td>1</td>\n",
              "      <td>0</td>\n",
              "      <td>0</td>\n",
              "      <td>1</td>\n",
              "      <td>1</td>\n",
              "    </tr>\n",
              "    <tr>\n",
              "      <th>2</th>\n",
              "      <td>0</td>\n",
              "      <td>0</td>\n",
              "      <td>0</td>\n",
              "      <td>0</td>\n",
              "      <td>0</td>\n",
              "      <td>1</td>\n",
              "      <td>0</td>\n",
              "      <td>0</td>\n",
              "      <td>1</td>\n",
              "      <td>1</td>\n",
              "    </tr>\n",
              "    <tr>\n",
              "      <th>3</th>\n",
              "      <td>0</td>\n",
              "      <td>0</td>\n",
              "      <td>0</td>\n",
              "      <td>0</td>\n",
              "      <td>0</td>\n",
              "      <td>1</td>\n",
              "      <td>1</td>\n",
              "      <td>0</td>\n",
              "      <td>1</td>\n",
              "      <td>0</td>\n",
              "    </tr>\n",
              "    <tr>\n",
              "      <th>4</th>\n",
              "      <td>0</td>\n",
              "      <td>0</td>\n",
              "      <td>0</td>\n",
              "      <td>0</td>\n",
              "      <td>1</td>\n",
              "      <td>0</td>\n",
              "      <td>1</td>\n",
              "      <td>0</td>\n",
              "      <td>1</td>\n",
              "      <td>0</td>\n",
              "    </tr>\n",
              "  </tbody>\n",
              "</table>\n",
              "</div>\n",
              "      <button class=\"colab-df-convert\" onclick=\"convertToInteractive('df-5ee482e8-4987-4cbb-881f-9d4ea1d09e2d')\"\n",
              "              title=\"Convert this dataframe to an interactive table.\"\n",
              "              style=\"display:none;\">\n",
              "        \n",
              "  <svg xmlns=\"http://www.w3.org/2000/svg\" height=\"24px\"viewBox=\"0 0 24 24\"\n",
              "       width=\"24px\">\n",
              "    <path d=\"M0 0h24v24H0V0z\" fill=\"none\"/>\n",
              "    <path d=\"M18.56 5.44l.94 2.06.94-2.06 2.06-.94-2.06-.94-.94-2.06-.94 2.06-2.06.94zm-11 1L8.5 8.5l.94-2.06 2.06-.94-2.06-.94L8.5 2.5l-.94 2.06-2.06.94zm10 10l.94 2.06.94-2.06 2.06-.94-2.06-.94-.94-2.06-.94 2.06-2.06.94z\"/><path d=\"M17.41 7.96l-1.37-1.37c-.4-.4-.92-.59-1.43-.59-.52 0-1.04.2-1.43.59L10.3 9.45l-7.72 7.72c-.78.78-.78 2.05 0 2.83L4 21.41c.39.39.9.59 1.41.59.51 0 1.02-.2 1.41-.59l7.78-7.78 2.81-2.81c.8-.78.8-2.07 0-2.86zM5.41 20L4 18.59l7.72-7.72 1.47 1.35L5.41 20z\"/>\n",
              "  </svg>\n",
              "      </button>\n",
              "      \n",
              "  <style>\n",
              "    .colab-df-container {\n",
              "      display:flex;\n",
              "      flex-wrap:wrap;\n",
              "      gap: 12px;\n",
              "    }\n",
              "\n",
              "    .colab-df-convert {\n",
              "      background-color: #E8F0FE;\n",
              "      border: none;\n",
              "      border-radius: 50%;\n",
              "      cursor: pointer;\n",
              "      display: none;\n",
              "      fill: #1967D2;\n",
              "      height: 32px;\n",
              "      padding: 0 0 0 0;\n",
              "      width: 32px;\n",
              "    }\n",
              "\n",
              "    .colab-df-convert:hover {\n",
              "      background-color: #E2EBFA;\n",
              "      box-shadow: 0px 1px 2px rgba(60, 64, 67, 0.3), 0px 1px 3px 1px rgba(60, 64, 67, 0.15);\n",
              "      fill: #174EA6;\n",
              "    }\n",
              "\n",
              "    [theme=dark] .colab-df-convert {\n",
              "      background-color: #3B4455;\n",
              "      fill: #D2E3FC;\n",
              "    }\n",
              "\n",
              "    [theme=dark] .colab-df-convert:hover {\n",
              "      background-color: #434B5C;\n",
              "      box-shadow: 0px 1px 3px 1px rgba(0, 0, 0, 0.15);\n",
              "      filter: drop-shadow(0px 1px 2px rgba(0, 0, 0, 0.3));\n",
              "      fill: #FFFFFF;\n",
              "    }\n",
              "  </style>\n",
              "\n",
              "      <script>\n",
              "        const buttonEl =\n",
              "          document.querySelector('#df-5ee482e8-4987-4cbb-881f-9d4ea1d09e2d button.colab-df-convert');\n",
              "        buttonEl.style.display =\n",
              "          google.colab.kernel.accessAllowed ? 'block' : 'none';\n",
              "\n",
              "        async function convertToInteractive(key) {\n",
              "          const element = document.querySelector('#df-5ee482e8-4987-4cbb-881f-9d4ea1d09e2d');\n",
              "          const dataTable =\n",
              "            await google.colab.kernel.invokeFunction('convertToInteractive',\n",
              "                                                     [key], {});\n",
              "          if (!dataTable) return;\n",
              "\n",
              "          const docLinkHtml = 'Like what you see? Visit the ' +\n",
              "            '<a target=\"_blank\" href=https://colab.research.google.com/notebooks/data_table.ipynb>data table notebook</a>'\n",
              "            + ' to learn more about interactive tables.';\n",
              "          element.innerHTML = '';\n",
              "          dataTable['output_type'] = 'display_data';\n",
              "          await google.colab.output.renderOutput(dataTable, element);\n",
              "          const docLink = document.createElement('div');\n",
              "          docLink.innerHTML = docLinkHtml;\n",
              "          element.appendChild(docLink);\n",
              "        }\n",
              "      </script>\n",
              "    </div>\n",
              "  </div>\n",
              "  "
            ]
          },
          "metadata": {},
          "execution_count": 235
        }
      ]
    },
    {
      "cell_type": "code",
      "source": [
        "# display the portion of best features out of total columns\n",
        "len(X_train_k_sel.columns)/len(X_train.columns)"
      ],
      "metadata": {
        "colab": {
          "base_uri": "https://localhost:8080/"
        },
        "id": "1KU7DapTElY5",
        "outputId": "fa43ad2d-307f-4d4a-96a3-491ed4ed8562"
      },
      "execution_count": null,
      "outputs": [
        {
          "output_type": "execute_result",
          "data": {
            "text/plain": [
              "0.4"
            ]
          },
          "metadata": {},
          "execution_count": 236
        }
      ]
    },
    {
      "cell_type": "markdown",
      "source": [
        "#**Scoring Function (Pre-Modeing)**"
      ],
      "metadata": {
        "id": "QLYEFnv-H6s-"
      }
    },
    {
      "cell_type": "code",
      "source": [
        "# create scores dataframe \n",
        "title = ['Accuracy Score','f1']\n",
        "df_pred = pd.DataFrame(columns=title) \n",
        "\n",
        "# create function that add scores results to dataframe\n",
        "def append_row(df_pred,index_name,data):\n",
        "  df_pred.loc[index_name] = data"
      ],
      "metadata": {
        "id": "FKzqAPXjNzUB"
      },
      "execution_count": null,
      "outputs": []
    },
    {
      "cell_type": "markdown",
      "source": [
        "# **Modeling**"
      ],
      "metadata": {
        "id": "9_zXIJqSKt9R"
      }
    },
    {
      "cell_type": "markdown",
      "metadata": {
        "id": "Z6PaiZOJp4B5"
      },
      "source": [
        "# **Logistic Regression**"
      ]
    },
    {
      "cell_type": "markdown",
      "source": [
        "**Modeling and Scoring**"
      ],
      "metadata": {
        "id": "Vhqfm9CiQO9e"
      }
    },
    {
      "cell_type": "code",
      "metadata": {
        "id": "-R46hHhUxWOV",
        "colab": {
          "base_uri": "https://localhost:8080/"
        },
        "outputId": "b68af4f2-71f0-4ff9-b6a0-b45b1781b11e"
      },
      "source": [
        "# instantiate the model \n",
        "lgr = LogisticRegression(C=3)\n",
        "# fit\n",
        "lgr.fit(X_train, y_train)"
      ],
      "execution_count": null,
      "outputs": [
        {
          "output_type": "execute_result",
          "data": {
            "text/plain": [
              "LogisticRegression(C=3)"
            ]
          },
          "metadata": {},
          "execution_count": 269
        }
      ]
    },
    {
      "cell_type": "code",
      "metadata": {
        "id": "1HyXS7zPS-YH",
        "colab": {
          "base_uri": "https://localhost:8080/"
        },
        "outputId": "278b5c58-b6fa-43ae-b101-753f3680e38a"
      },
      "source": [
        "# predict with the model\n",
        "y_pred = lgr.predict(X_test)\n",
        "# score the model\n",
        "acc = accuracy_score(y_test, y_pred)\n",
        "f1 = f1_score(y_test, y_pred)\n",
        "# add scores results to dataframe\n",
        "append_row(df_pred,'lgr',(acc,f1))\n",
        "\n",
        "acc"
      ],
      "execution_count": null,
      "outputs": [
        {
          "output_type": "execute_result",
          "data": {
            "text/plain": [
              "0.10953222735926027"
            ]
          },
          "metadata": {},
          "execution_count": 270
        }
      ]
    },
    {
      "cell_type": "code",
      "metadata": {
        "id": "ZimuryNrRL8v",
        "colab": {
          "base_uri": "https://localhost:8080/",
          "height": 282
        },
        "outputId": "d9108198-9bce-4ae0-d599-c71f50378e67"
      },
      "source": [
        "cm = confusion_matrix(y_test,y_pred)\n",
        "pd.DataFrame(cm,\n",
        "             index=lgr.classes_,\n",
        "             columns=lgr.classes_)\n",
        "sns.heatmap(cm, annot=True, fmt='d', cmap='PuBu')"
      ],
      "execution_count": null,
      "outputs": [
        {
          "output_type": "execute_result",
          "data": {
            "text/plain": [
              "<matplotlib.axes._subplots.AxesSubplot at 0x7f0b286e9b90>"
            ]
          },
          "metadata": {},
          "execution_count": 271
        },
        {
          "output_type": "display_data",
          "data": {
            "text/plain": [
              "<Figure size 432x288 with 2 Axes>"
            ],
            "image/png": "[encoded data removed]"
          },
          "metadata": {
            "needs_background": "light"
          }
        }
      ]
    },
    {
      "cell_type": "code",
      "metadata": {
        "id": "RIDJWprdSXFm",
        "colab": {
          "base_uri": "https://localhost:8080/"
        },
        "outputId": "5ba31eeb-a1ca-471b-b9de-bab2beef9bc0"
      },
      "source": [
        "print(classification_report(y_test,y_pred))"
      ],
      "execution_count": null,
      "outputs": [
        {
          "output_type": "stream",
          "name": "stdout",
          "text": [
            "              precision    recall  f1-score   support\n",
            "\n",
            "           0       1.00      0.00      0.00     26196\n",
            "           1       0.11      1.00      0.20      3220\n",
            "\n",
            "    accuracy                           0.11     29416\n",
            "   macro avg       0.55      0.50      0.10     29416\n",
            "weighted avg       0.90      0.11      0.02     29416\n",
            "\n"
          ]
        }
      ]
    },
    {
      "cell_type": "markdown",
      "source": [
        "# **Logistic Regression (with Feature Selection and Grid Search)**"
      ],
      "metadata": {
        "id": "rucfMSoeKnel"
      }
    },
    {
      "cell_type": "code",
      "metadata": {
        "id": "bDhES2SdQWFH"
      },
      "source": [
        "parameter_candidates = [{'C': [0.1, 1, 40, 100], 'solver':['newton-cg', 'lbfgs', 'saga']}]"
      ],
      "execution_count": null,
      "outputs": []
    },
    {
      "cell_type": "code",
      "metadata": {
        "id": "LTqZ0LJGTMf_",
        "colab": {
          "base_uri": "https://localhost:8080/"
        },
        "outputId": "3ee278e9-7bc9-4802-b06a-7e2d1bbca249"
      },
      "source": [
        "# instantiate the model \n",
        "lgr_fs_gs = GridSearchCV(LogisticRegression(), parameter_candidates, cv=3, verbose=0)\n",
        "# fit\n",
        "lgr_fs_gs.fit(X_train_k_sel, y_train)"
      ],
      "execution_count": null,
      "outputs": [
        {
          "output_type": "execute_result",
          "data": {
            "text/plain": [
              "GridSearchCV(cv=3, estimator=LogisticRegression(),\n",
              "             param_grid=[{'C': [0.1, 1, 40, 100],\n",
              "                          'solver': ['newton-cg', 'lbfgs', 'saga']}])"
            ]
          },
          "metadata": {},
          "execution_count": 274
        }
      ]
    },
    {
      "cell_type": "code",
      "metadata": {
        "id": "Lb2Euf-ZTtdp",
        "colab": {
          "base_uri": "https://localhost:8080/"
        },
        "outputId": "1a5e7b7e-af1e-47da-d87e-543680806cfd"
      },
      "source": [
        "# display best model\n",
        "print(\"Best parameters:\", lgr_fs_gs.best_params_)"
      ],
      "execution_count": null,
      "outputs": [
        {
          "output_type": "stream",
          "name": "stdout",
          "text": [
            "Best parameters: {'C': 1, 'solver': 'newton-cg'}\n"
          ]
        }
      ]
    },
    {
      "cell_type": "code",
      "metadata": {
        "id": "lr29VydCcvfC"
      },
      "source": [
        "# initiate best model\n",
        "best_lgr = lgr_fs_gs.best_estimator_"
      ],
      "execution_count": null,
      "outputs": []
    },
    {
      "cell_type": "code",
      "source": [
        "# predict with the model\n",
        "y_pred = best_lgr.predict(X_test[list(X_train_k_sel.columns)])\n",
        "# score the model\n",
        "acc = accuracy_score(y_test, y_pred)\n",
        "f1 = f1_score(y_test, y_pred)\n",
        "# add scores results to dataframe\n",
        "append_row(df_pred,'lgr_fs_gs',(acc,f1))\n",
        "\n",
        "acc"
      ],
      "metadata": {
        "colab": {
          "base_uri": "https://localhost:8080/"
        },
        "id": "INfnRlIfTax0",
        "outputId": "f6d1c737-446c-4e68-befe-0bca55d79b90"
      },
      "execution_count": null,
      "outputs": [
        {
          "output_type": "execute_result",
          "data": {
            "text/plain": [
              "0.7100557519717161"
            ]
          },
          "metadata": {},
          "execution_count": 277
        }
      ]
    },
    {
      "cell_type": "code",
      "metadata": {
        "id": "mCJmPU1Cf1jF",
        "colab": {
          "base_uri": "https://localhost:8080/",
          "height": 282
        },
        "outputId": "9e5f9b5f-e201-4ac7-b6d2-9f86b4bb1231"
      },
      "source": [
        "cm = confusion_matrix(y_test,y_pred)\n",
        "pd.DataFrame(cm,\n",
        "             index=best_lgr.classes_,\n",
        "             columns=best_lgr.classes_)\n",
        "sns.heatmap(cm, annot=True, fmt='d', cmap='PuBu')"
      ],
      "execution_count": null,
      "outputs": [
        {
          "output_type": "execute_result",
          "data": {
            "text/plain": [
              "<matplotlib.axes._subplots.AxesSubplot at 0x7f0b285a7ad0>"
            ]
          },
          "metadata": {},
          "execution_count": 278
        },
        {
          "output_type": "display_data",
          "data": {
            "text/plain": [
              "<Figure size 432x288 with 2 Axes>"
            ],
            "image/png": "[encoded data removed]"
          },
          "metadata": {
            "needs_background": "light"
          }
        }
      ]
    },
    {
      "cell_type": "code",
      "metadata": {
        "id": "-wl8PEyqgRsW",
        "colab": {
          "base_uri": "https://localhost:8080/"
        },
        "outputId": "806a411f-204c-4753-8356-e073df48aa88"
      },
      "source": [
        "print(classification_report(y_test,\n",
        "                            y_pred))"
      ],
      "execution_count": null,
      "outputs": [
        {
          "output_type": "stream",
          "name": "stdout",
          "text": [
            "              precision    recall  f1-score   support\n",
            "\n",
            "           0       0.90      0.76      0.82     26196\n",
            "           1       0.13      0.28      0.18      3220\n",
            "\n",
            "    accuracy                           0.71     29416\n",
            "   macro avg       0.51      0.52      0.50     29416\n",
            "weighted avg       0.81      0.71      0.75     29416\n",
            "\n"
          ]
        }
      ]
    },
    {
      "cell_type": "markdown",
      "metadata": {
        "id": "GIn05dY2at3K"
      },
      "source": [
        "# **DecisionTreeClassifier**"
      ]
    },
    {
      "cell_type": "code",
      "metadata": {
        "id": "m1FOmMzS15w1",
        "colab": {
          "base_uri": "https://localhost:8080/"
        },
        "outputId": "4af54c04-129e-4646-e8f6-ab1bdadf8f0d"
      },
      "source": [
        "# instantiate the classifier \n",
        "dt = DecisionTreeClassifier(max_depth=5)\n",
        "# fit the model\n",
        "dt.fit(X_train, y_train)"
      ],
      "execution_count": null,
      "outputs": [
        {
          "output_type": "execute_result",
          "data": {
            "text/plain": [
              "DecisionTreeClassifier(max_depth=5)"
            ]
          },
          "metadata": {},
          "execution_count": 281
        }
      ]
    },
    {
      "cell_type": "code",
      "source": [
        "# predict with the model\n",
        "y_pred = dt.predict(X_test)\n",
        "# score the model\n",
        "acc = accuracy_score(y_test, y_pred)\n",
        "f1 = f1_score(y_test, y_pred)\n",
        "# add scores results to dataframe\n",
        "append_row(df_pred,'dt',(acc,f1))\n",
        "\n",
        "acc"
      ],
      "metadata": {
        "colab": {
          "base_uri": "https://localhost:8080/"
        },
        "id": "kHL4D82J7dd7",
        "outputId": "4c69df6a-b415-403c-d689-82cae3f3f5d0"
      },
      "execution_count": null,
      "outputs": [
        {
          "output_type": "execute_result",
          "data": {
            "text/plain": [
              "0.641657601305412"
            ]
          },
          "metadata": {},
          "execution_count": 282
        }
      ]
    },
    {
      "cell_type": "code",
      "source": [
        "cm = confusion_matrix(y_test,y_pred)\n",
        "pd.DataFrame(cm,\n",
        "             index=dt.classes_,\n",
        "             columns=dt.classes_)\n",
        "sns.heatmap(cm, annot=True, fmt='d', cmap='PuBu')"
      ],
      "metadata": {
        "colab": {
          "base_uri": "https://localhost:8080/",
          "height": 282
        },
        "id": "cegwWSfO7y5K",
        "outputId": "53b9f5e4-1826-4385-f0a2-0e2aee7229c7"
      },
      "execution_count": null,
      "outputs": [
        {
          "output_type": "execute_result",
          "data": {
            "text/plain": [
              "<matplotlib.axes._subplots.AxesSubplot at 0x7f0b27e197d0>"
            ]
          },
          "metadata": {},
          "execution_count": 283
        },
        {
          "output_type": "display_data",
          "data": {
            "text/plain": [
              "<Figure size 432x288 with 2 Axes>"
            ],
            "image/png": "[encoded data removed]"
          },
          "metadata": {
            "needs_background": "light"
          }
        }
      ]
    },
    {
      "cell_type": "code",
      "source": [
        "print(classification_report(y_test,y_pred))"
      ],
      "metadata": {
        "colab": {
          "base_uri": "https://localhost:8080/"
        },
        "id": "DbepwgRT-YjJ",
        "outputId": "81142782-1899-4074-9151-577879075145"
      },
      "execution_count": null,
      "outputs": [
        {
          "output_type": "stream",
          "name": "stdout",
          "text": [
            "              precision    recall  f1-score   support\n",
            "\n",
            "           0       0.89      0.68      0.77     26196\n",
            "           1       0.11      0.33      0.17      3220\n",
            "\n",
            "    accuracy                           0.64     29416\n",
            "   macro avg       0.50      0.50      0.47     29416\n",
            "weighted avg       0.81      0.64      0.71     29416\n",
            "\n"
          ]
        }
      ]
    },
    {
      "cell_type": "markdown",
      "source": [
        "# **DecisionTreeClassifier (with Feature Selection and Grid Search)**"
      ],
      "metadata": {
        "id": "8fqpdJv377sf"
      }
    },
    {
      "cell_type": "code",
      "metadata": {
        "id": "QRJgKtxhZbdG"
      },
      "source": [
        "parameter_candidates = [{'min_samples_split': [20,10,30], 'max_depth': [3, 5],'max_leaf_nodes':[6,14]}]"
      ],
      "execution_count": null,
      "outputs": []
    },
    {
      "cell_type": "code",
      "metadata": {
        "id": "8QLErDqsZgh4",
        "colab": {
          "base_uri": "https://localhost:8080/"
        },
        "outputId": "8001f524-9a44-44f1-b443-8146d73e09dc"
      },
      "source": [
        "# instantiate the model \n",
        "dt_fs_gs = GridSearchCV(DecisionTreeClassifier(), parameter_candidates, cv=5)\n",
        "# fit\n",
        "dt_fs_gs.fit(X_train_k_sel, y_train)"
      ],
      "execution_count": null,
      "outputs": [
        {
          "output_type": "execute_result",
          "data": {
            "text/plain": [
              "GridSearchCV(cv=5, estimator=DecisionTreeClassifier(),\n",
              "             param_grid=[{'max_depth': [3, 5], 'max_leaf_nodes': [6, 14],\n",
              "                          'min_samples_split': [20, 10, 30]}])"
            ]
          },
          "metadata": {},
          "execution_count": 287
        }
      ]
    },
    {
      "cell_type": "code",
      "metadata": {
        "id": "NDzD2mkUZsFX",
        "colab": {
          "base_uri": "https://localhost:8080/"
        },
        "outputId": "62db5b9a-5c01-4015-cc4d-2148db40d2e5"
      },
      "source": [
        "# display best model\n",
        "print(\"Best parameters:\", dt_fs_gs.best_params_)"
      ],
      "execution_count": null,
      "outputs": [
        {
          "output_type": "stream",
          "name": "stdout",
          "text": [
            "Best parameters: {'max_depth': 5, 'max_leaf_nodes': 14, 'min_samples_split': 20}\n"
          ]
        }
      ]
    },
    {
      "cell_type": "code",
      "source": [
        "# initiate best model\n",
        "best_dt = dt_fs_gs.best_estimator_"
      ],
      "metadata": {
        "id": "QJK2MGR586DE"
      },
      "execution_count": null,
      "outputs": []
    },
    {
      "cell_type": "code",
      "source": [
        "# predict with the model\n",
        "y_pred = best_dt.predict(X_test[list(X_train_k_sel.columns)])\n",
        "# score the model\n",
        "acc = accuracy_score(y_test, y_pred)\n",
        "f1 = f1_score(y_test, y_pred)\n",
        "# add scores results to dataframe\n",
        "append_row(df_pred,'dt_fs_gs',(acc,f1))\n",
        "\n",
        "acc"
      ],
      "metadata": {
        "colab": {
          "base_uri": "https://localhost:8080/"
        },
        "id": "dS-YXojk85yy",
        "outputId": "27777343-d495-421d-c547-33723e9646eb"
      },
      "execution_count": null,
      "outputs": [
        {
          "output_type": "execute_result",
          "data": {
            "text/plain": [
              "0.5738373674190916"
            ]
          },
          "metadata": {},
          "execution_count": 290
        }
      ]
    },
    {
      "cell_type": "code",
      "source": [
        "cm = confusion_matrix(y_test,y_pred)\n",
        "pd.DataFrame(cm,\n",
        "             index=best_dt.classes_,\n",
        "             columns=best_dt.classes_)\n",
        "sns.heatmap(cm, annot=True, fmt='d', cmap='PuBu')\n",
        "\n",
        "print(classification_report(y_test,y_pred))"
      ],
      "metadata": {
        "colab": {
          "base_uri": "https://localhost:8080/",
          "height": 421
        },
        "id": "CiVBJSMd-dln",
        "outputId": "8644a58c-b762-43bf-d106-497f1639d191"
      },
      "execution_count": null,
      "outputs": [
        {
          "output_type": "stream",
          "name": "stdout",
          "text": [
            "              precision    recall  f1-score   support\n",
            "\n",
            "           0       0.90      0.59      0.71     26196\n",
            "           1       0.12      0.46      0.19      3220\n",
            "\n",
            "    accuracy                           0.57     29416\n",
            "   macro avg       0.51      0.52      0.45     29416\n",
            "weighted avg       0.81      0.57      0.65     29416\n",
            "\n"
          ]
        },
        {
          "output_type": "display_data",
          "data": {
            "text/plain": [
              "<Figure size 432x288 with 2 Axes>"
            ],
            "image/png": "[encoded data removed]"
          },
          "metadata": {
            "needs_background": "light"
          }
        }
      ]
    },
    {
      "cell_type": "markdown",
      "metadata": {
        "id": "pAQM8Z5y_7sh"
      },
      "source": [
        "# **Random Forest Classifier**"
      ]
    },
    {
      "cell_type": "code",
      "source": [
        "# instantiate the model \n",
        "rfc = RandomForestClassifier()\n",
        "# fit\n",
        "rfc.fit(X_train, y_train)"
      ],
      "metadata": {
        "colab": {
          "base_uri": "https://localhost:8080/"
        },
        "id": "2vzUhW7a9oJK",
        "outputId": "63512d1d-e7a6-4dac-d7b8-54772a938deb"
      },
      "execution_count": null,
      "outputs": [
        {
          "output_type": "execute_result",
          "data": {
            "text/plain": [
              "RandomForestClassifier()"
            ]
          },
          "metadata": {},
          "execution_count": 292
        }
      ]
    },
    {
      "cell_type": "code",
      "source": [
        "# predict with the model\n",
        "y_pred = rfc.predict(X_test)\n",
        "# score the model\n",
        "acc = accuracy_score(y_test, y_pred)\n",
        "f1 = f1_score(y_test, y_pred)\n",
        "# add scores results to dataframe\n",
        "append_row(df_pred,'rfc',(acc,f1))\n",
        "\n",
        "acc"
      ],
      "metadata": {
        "colab": {
          "base_uri": "https://localhost:8080/"
        },
        "id": "YiIdaLZz9oGo",
        "outputId": "74bf0838-50d5-49f5-86d4-a5459c13bd8a"
      },
      "execution_count": null,
      "outputs": [
        {
          "output_type": "execute_result",
          "data": {
            "text/plain": [
              "0.8302964373130269"
            ]
          },
          "metadata": {},
          "execution_count": 294
        }
      ]
    },
    {
      "cell_type": "code",
      "source": [
        "cm = confusion_matrix(y_test,y_pred)\n",
        "pd.DataFrame(cm,\n",
        "             index=rfc.classes_,\n",
        "             columns=rfc.classes_)\n",
        "sns.heatmap(cm, annot=True, fmt='d', cmap='PuBu')\n",
        "\n",
        "print(classification_report(y_test,y_pred))"
      ],
      "metadata": {
        "colab": {
          "base_uri": "https://localhost:8080/",
          "height": 421
        },
        "id": "NH8U0m3f9oCr",
        "outputId": "b1909a46-8b33-41d0-c655-a961682038fb"
      },
      "execution_count": null,
      "outputs": [
        {
          "output_type": "stream",
          "name": "stdout",
          "text": [
            "              precision    recall  f1-score   support\n",
            "\n",
            "           0       0.89      0.92      0.91     26196\n",
            "           1       0.13      0.10      0.12      3220\n",
            "\n",
            "    accuracy                           0.83     29416\n",
            "   macro avg       0.51      0.51      0.51     29416\n",
            "weighted avg       0.81      0.83      0.82     29416\n",
            "\n"
          ]
        },
        {
          "output_type": "display_data",
          "data": {
            "text/plain": [
              "<Figure size 432x288 with 2 Axes>"
            ],
            "image/png": "[encoded data removed]"
          },
          "metadata": {
            "needs_background": "light"
          }
        }
      ]
    },
    {
      "cell_type": "markdown",
      "source": [
        "# **Random Forest Classifier (with Feature Selection and Grid Search)**"
      ],
      "metadata": {
        "id": "7veR3NieEB4C"
      }
    },
    {
      "cell_type": "code",
      "metadata": {
        "id": "hNR3-TlurxXb"
      },
      "source": [
        "parameter_candidates = [{'max_leaf_nodes': [900,1100,1300], 'max_samples': [0.5,0.6],'min_samples_leaf':[100,150]}]"
      ],
      "execution_count": null,
      "outputs": []
    },
    {
      "cell_type": "code",
      "source": [
        "# instantiate the model \n",
        "rfc_fs_gs = GridSearchCV(RandomForestClassifier(), parameter_candidates, cv=5)\n",
        "# fit\n",
        "rfc_fs_gs.fit(X_train_k_sel, y_train)"
      ],
      "metadata": {
        "colab": {
          "base_uri": "https://localhost:8080/"
        },
        "id": "h_CQ6R2FEXBT",
        "outputId": "7273fef0-a321-43f0-f221-ee829ddd2658"
      },
      "execution_count": null,
      "outputs": [
        {
          "output_type": "execute_result",
          "data": {
            "text/plain": [
              "GridSearchCV(cv=5, estimator=RandomForestClassifier(),\n",
              "             param_grid=[{'max_leaf_nodes': [900, 1100, 1300],\n",
              "                          'max_samples': [0.5, 0.6],\n",
              "                          'min_samples_leaf': [100, 150]}])"
            ]
          },
          "metadata": {},
          "execution_count": 297
        }
      ]
    },
    {
      "cell_type": "code",
      "metadata": {
        "id": "cukfDrEbr2ho",
        "colab": {
          "base_uri": "https://localhost:8080/"
        },
        "outputId": "85a9d8ce-b9ee-4037-f16b-1b9f171ccbca"
      },
      "source": [
        "# display best model\n",
        "print(\"Best parameters:\", rfc_fs_gs.best_params_)"
      ],
      "execution_count": null,
      "outputs": [
        {
          "output_type": "stream",
          "name": "stdout",
          "text": [
            "Best parameters: {'max_leaf_nodes': 900, 'max_samples': 0.6, 'min_samples_leaf': 100}\n"
          ]
        }
      ]
    },
    {
      "cell_type": "code",
      "source": [
        "# initiate best model\n",
        "best_rfc = rfc_fs_gs.best_estimator_"
      ],
      "metadata": {
        "id": "i-wXQcH-Eq_N"
      },
      "execution_count": null,
      "outputs": []
    },
    {
      "cell_type": "code",
      "metadata": {
        "id": "0AGXT8lRr7my",
        "colab": {
          "base_uri": "https://localhost:8080/"
        },
        "outputId": "c7aa76c8-c88a-4781-ff9f-7754bf15b9bf"
      },
      "source": [
        "# predict with the model\n",
        "y_pred = best_rfc.predict(X_test[list(X_train_k_sel.columns)])\n",
        "# score the model\n",
        "acc = accuracy_score(y_test, y_pred)\n",
        "f1 = f1_score(y_test, y_pred)\n",
        "# add scores results to dataframe\n",
        "append_row(df_pred,'rfc_fs_gs',(acc,f1))\n",
        "\n",
        "acc"
      ],
      "execution_count": null,
      "outputs": [
        {
          "output_type": "execute_result",
          "data": {
            "text/plain": [
              "0.7083899918411749"
            ]
          },
          "metadata": {},
          "execution_count": 303
        }
      ]
    },
    {
      "cell_type": "code",
      "source": [
        "cm = confusion_matrix(y_test,y_pred)\n",
        "pd.DataFrame(cm,\n",
        "             index=best_rfc.classes_,\n",
        "             columns=best_rfc.classes_)\n",
        "sns.heatmap(cm, annot=True, fmt='d', cmap='PuBu')"
      ],
      "metadata": {
        "colab": {
          "base_uri": "https://localhost:8080/",
          "height": 282
        },
        "id": "JESAiHQyFBP3",
        "outputId": "878647aa-bcdf-4496-e422-dd10a66a22a2"
      },
      "execution_count": null,
      "outputs": [
        {
          "output_type": "execute_result",
          "data": {
            "text/plain": [
              "<matplotlib.axes._subplots.AxesSubplot at 0x7f0b27c3e790>"
            ]
          },
          "metadata": {},
          "execution_count": 304
        },
        {
          "output_type": "display_data",
          "data": {
            "text/plain": [
              "<Figure size 432x288 with 2 Axes>"
            ],
            "image/png": "[encoded data removed]"
          },
          "metadata": {
            "needs_background": "light"
          }
        }
      ]
    },
    {
      "cell_type": "markdown",
      "metadata": {
        "id": "VSOi5ffDyW2z"
      },
      "source": [
        "# **Ensemble Methods**"
      ]
    },
    {
      "cell_type": "markdown",
      "metadata": {
        "id": "nWkot_mtybtP"
      },
      "source": [
        "**Voting**"
      ]
    },
    {
      "cell_type": "code",
      "metadata": {
        "id": "ahleMmLXh6N6"
      },
      "source": [
        "# 3 models\n",
        "clf1 = LogisticRegression()\n",
        "clf2 = DecisionTreeClassifier(max_depth=5)\n",
        "clf3 = RandomForestClassifier()\n",
        "\n",
        "# instantiate voting model\n",
        "clf_voting = VotingClassifier(estimators=[('LR', clf1), ('DT', clf2), ('RFC', clf3)], voting='soft')"
      ],
      "execution_count": null,
      "outputs": []
    },
    {
      "cell_type": "code",
      "source": [
        "# fit\n",
        "clf_voting.fit(X_train, y_train)"
      ],
      "metadata": {
        "colab": {
          "base_uri": "https://localhost:8080/"
        },
        "id": "GX_1jVRmI2iJ",
        "outputId": "c539104c-0dea-4283-c6a1-da231f77ad31"
      },
      "execution_count": null,
      "outputs": [
        {
          "output_type": "execute_result",
          "data": {
            "text/plain": [
              "VotingClassifier(estimators=[('LR', LogisticRegression()),\n",
              "                             ('DT', DecisionTreeClassifier(max_depth=5)),\n",
              "                             ('RFC', RandomForestClassifier())],\n",
              "                 voting='soft')"
            ]
          },
          "metadata": {},
          "execution_count": 318
        }
      ]
    },
    {
      "cell_type": "code",
      "source": [
        "# display score of each model\n",
        "clf_voting.estimators_"
      ],
      "metadata": {
        "colab": {
          "base_uri": "https://localhost:8080/"
        },
        "id": "yv4W-ao8I3eT",
        "outputId": "7a593628-d9b2-4e3a-8693-56435cf0ce54"
      },
      "execution_count": null,
      "outputs": [
        {
          "output_type": "execute_result",
          "data": {
            "text/plain": [
              "[LogisticRegression(),\n",
              " DecisionTreeClassifier(max_depth=5),\n",
              " RandomForestClassifier()]"
            ]
          },
          "metadata": {},
          "execution_count": 319
        }
      ]
    },
    {
      "cell_type": "code",
      "source": [
        "# predict with the model\n",
        "y_pred = clf_voting.predict(X_test)"
      ],
      "metadata": {
        "id": "ZKYrKF06Ifq6"
      },
      "execution_count": null,
      "outputs": []
    },
    {
      "cell_type": "code",
      "source": [
        "# score the model\n",
        "acc = accuracy_score(y_test, y_pred)\n",
        "f1 = f1_score(y_test, y_pred)\n",
        "# add scores results to dataframe\n",
        "append_row(df_pred,'clf_voting',(acc,f1))\n",
        "\n",
        "acc"
      ],
      "metadata": {
        "colab": {
          "base_uri": "https://localhost:8080/"
        },
        "id": "zX69NppCIOZr",
        "outputId": "8d066dc1-7176-4ca0-8035-c808e133d343"
      },
      "execution_count": null,
      "outputs": [
        {
          "output_type": "execute_result",
          "data": {
            "text/plain": [
              "0.46379521348925756"
            ]
          },
          "metadata": {},
          "execution_count": 321
        }
      ]
    },
    {
      "cell_type": "code",
      "metadata": {
        "id": "bq6ZTTXVEiiO",
        "colab": {
          "base_uri": "https://localhost:8080/",
          "height": 282
        },
        "outputId": "4e07681f-25c3-42e7-c22c-c8e539f7a333"
      },
      "source": [
        "cm = confusion_matrix(y_test,y_pred)\n",
        "pd.DataFrame(cm,\n",
        "             index=clf_voting.classes_,\n",
        "             columns=clf_voting.classes_)\n",
        "sns.heatmap(cm, annot=True, fmt='d', cmap='PuBu')"
      ],
      "execution_count": null,
      "outputs": [
        {
          "output_type": "execute_result",
          "data": {
            "text/plain": [
              "<matplotlib.axes._subplots.AxesSubplot at 0x7f0b27b096d0>"
            ]
          },
          "metadata": {},
          "execution_count": 322
        },
        {
          "output_type": "display_data",
          "data": {
            "text/plain": [
              "<Figure size 432x288 with 2 Axes>"
            ],
            "image/png": "[encoded data removed]"
          },
          "metadata": {
            "needs_background": "light"
          }
        }
      ]
    },
    {
      "cell_type": "markdown",
      "metadata": {
        "id": "bwBTBpbytpey"
      },
      "source": [
        "**Voting (with best models)**"
      ]
    },
    {
      "cell_type": "code",
      "metadata": {
        "id": "BFWa7RZCtpe0"
      },
      "source": [
        "# 3 models\n",
        "clf1 = best_lgr\n",
        "clf2 = best_dt\n",
        "clf3 = best_rfc\n",
        "\n",
        "# instantiate voting model\n",
        "best_clf_voting = VotingClassifier(estimators=[('LR', clf1), ('DT', clf2), ('RFC', clf3)], voting='soft')"
      ],
      "execution_count": null,
      "outputs": []
    },
    {
      "cell_type": "code",
      "metadata": {
        "id": "SB-rP5Sntpe7",
        "colab": {
          "base_uri": "https://localhost:8080/"
        },
        "outputId": "1fb4acc8-5b48-416a-91d8-9df6f81c84ad"
      },
      "source": [
        "# fit\n",
        "best_clf_voting.fit(X_train_k_sel, y_train)"
      ],
      "execution_count": null,
      "outputs": [
        {
          "output_type": "execute_result",
          "data": {
            "text/plain": [
              "VotingClassifier(estimators=[('LR',\n",
              "                              LogisticRegression(C=1, solver='newton-cg')),\n",
              "                             ('DT',\n",
              "                              DecisionTreeClassifier(max_depth=5,\n",
              "                                                     max_leaf_nodes=14,\n",
              "                                                     min_samples_split=20)),\n",
              "                             ('RFC',\n",
              "                              RandomForestClassifier(max_leaf_nodes=900,\n",
              "                                                     max_samples=0.6,\n",
              "                                                     min_samples_leaf=100))],\n",
              "                 voting='soft')"
            ]
          },
          "metadata": {},
          "execution_count": 324
        }
      ]
    },
    {
      "cell_type": "code",
      "source": [
        "# display score of each model\n",
        "best_clf_voting.estimators_"
      ],
      "metadata": {
        "colab": {
          "base_uri": "https://localhost:8080/"
        },
        "id": "kgTIYVNjK74V",
        "outputId": "b9ecf709-68f3-4d38-eab4-e1922e3e0617"
      },
      "execution_count": null,
      "outputs": [
        {
          "output_type": "execute_result",
          "data": {
            "text/plain": [
              "[LogisticRegression(C=1, solver='newton-cg'),\n",
              " DecisionTreeClassifier(max_depth=5, max_leaf_nodes=14, min_samples_split=20),\n",
              " RandomForestClassifier(max_leaf_nodes=900, max_samples=0.6,\n",
              "                        min_samples_leaf=100)]"
            ]
          },
          "metadata": {},
          "execution_count": 325
        }
      ]
    },
    {
      "cell_type": "code",
      "source": [
        "# predict with the model\n",
        "y_pred = best_clf_voting.predict(X_test[list(X_train_k_sel.columns)])"
      ],
      "metadata": {
        "id": "WHAKdjo-P6Tj"
      },
      "execution_count": null,
      "outputs": []
    },
    {
      "cell_type": "code",
      "source": [
        "# score the model\n",
        "acc = accuracy_score(y_test, y_pred)\n",
        "f1 = f1_score(y_test, y_pred)\n",
        "# add scores results to dataframe\n",
        "append_row(df_pred,'best_clf_voting',(acc,f1))\n",
        "\n",
        "acc"
      ],
      "metadata": {
        "colab": {
          "base_uri": "https://localhost:8080/"
        },
        "id": "CEG0yT_EQKgG",
        "outputId": "88ab7bc1-655f-46fa-ed3f-c174963953d7"
      },
      "execution_count": null,
      "outputs": [
        {
          "output_type": "execute_result",
          "data": {
            "text/plain": [
              "0.6981914604296982"
            ]
          },
          "metadata": {},
          "execution_count": 328
        }
      ]
    },
    {
      "cell_type": "code",
      "source": [
        "cm = confusion_matrix(y_test,y_pred)\n",
        "pd.DataFrame(cm,\n",
        "             index=best_clf_voting.classes_,\n",
        "             columns=best_clf_voting.classes_)\n",
        "sns.heatmap(cm, annot=True, fmt='d', cmap='PuBu')"
      ],
      "metadata": {
        "colab": {
          "base_uri": "https://localhost:8080/",
          "height": 282
        },
        "id": "wrsaUfWfQVEn",
        "outputId": "a75d161d-c36e-4b91-e5ab-06416f7aba5c"
      },
      "execution_count": null,
      "outputs": [
        {
          "output_type": "execute_result",
          "data": {
            "text/plain": [
              "<matplotlib.axes._subplots.AxesSubplot at 0x7f0b286df710>"
            ]
          },
          "metadata": {},
          "execution_count": 329
        },
        {
          "output_type": "display_data",
          "data": {
            "text/plain": [
              "<Figure size 432x288 with 2 Axes>"
            ],
            "image/png": "[encoded data removed]"
          },
          "metadata": {
            "needs_background": "light"
          }
        }
      ]
    },
    {
      "cell_type": "markdown",
      "metadata": {
        "id": "XAol353HGWIv"
      },
      "source": [
        "**Boosting with AdaBoost**"
      ]
    },
    {
      "cell_type": "code",
      "source": [
        "# decision tree as a base model\n",
        "clf_base = DecisionTreeClassifier(class_weight='balanced')\n",
        "\n",
        "# create AdaBoost model\n",
        "clf_adaboost = AdaBoostClassifier(base_estimator=clf_base, n_estimators=200, learning_rate=0.01)"
      ],
      "metadata": {
        "id": "qcW_VaUbRfd0"
      },
      "execution_count": null,
      "outputs": []
    },
    {
      "cell_type": "code",
      "source": [
        "# fit AdaBoost model\n",
        "clf_adaboost.fit(X_train, y_train)"
      ],
      "metadata": {
        "colab": {
          "base_uri": "https://localhost:8080/"
        },
        "id": "v3exbp7qTAnR",
        "outputId": "fa1f681d-1ec2-4a6e-ff10-3aa0b5e61cc1"
      },
      "execution_count": null,
      "outputs": [
        {
          "output_type": "execute_result",
          "data": {
            "text/plain": [
              "AdaBoostClassifier(base_estimator=DecisionTreeClassifier(class_weight='balanced'),\n",
              "                   learning_rate=0.01, n_estimators=200)"
            ]
          },
          "metadata": {},
          "execution_count": 331
        }
      ]
    },
    {
      "cell_type": "code",
      "source": [
        "# predict with the model\n",
        "y_pred = clf_adaboost.predict(X_test)"
      ],
      "metadata": {
        "id": "bs9SzrouTBm8"
      },
      "execution_count": null,
      "outputs": []
    },
    {
      "cell_type": "code",
      "source": [
        "# score the model\n",
        "acc = accuracy_score(y_test, y_pred)\n",
        "f1 = f1_score(y_test, y_pred)\n",
        "# add scores results to dataframe\n",
        "append_row(df_pred,'clf_adaboost',(acc,f1))\n",
        "\n",
        "acc"
      ],
      "metadata": {
        "colab": {
          "base_uri": "https://localhost:8080/"
        },
        "id": "wpsLr1dsSrRI",
        "outputId": "29efca37-e5a6-40e2-f268-74b9f0e03680"
      },
      "execution_count": null,
      "outputs": [
        {
          "output_type": "execute_result",
          "data": {
            "text/plain": [
              "0.548239053576285"
            ]
          },
          "metadata": {},
          "execution_count": 333
        }
      ]
    },
    {
      "cell_type": "code",
      "metadata": {
        "id": "c9BHsNyTK1P5",
        "colab": {
          "base_uri": "https://localhost:8080/",
          "height": 282
        },
        "outputId": "ba5147b4-0e6c-4388-c8c8-6e395cefca12"
      },
      "source": [
        "cm = confusion_matrix(y_test,y_pred)\n",
        "pd.DataFrame(cm,\n",
        "             index=clf_adaboost.classes_,\n",
        "             columns=clf_adaboost.classes_)\n",
        "sns.heatmap(cm, annot=True, fmt='d', cmap='PuBu')"
      ],
      "execution_count": null,
      "outputs": [
        {
          "output_type": "execute_result",
          "data": {
            "text/plain": [
              "<matplotlib.axes._subplots.AxesSubplot at 0x7f0b27d0a190>"
            ]
          },
          "metadata": {},
          "execution_count": 334
        },
        {
          "output_type": "display_data",
          "data": {
            "text/plain": [
              "<Figure size 432x288 with 2 Axes>"
            ],
            "image/png": "[encoded data removed]"
          },
          "metadata": {
            "needs_background": "light"
          }
        }
      ]
    },
    {
      "cell_type": "markdown",
      "source": [
        "# **Scoring Visualization**"
      ],
      "metadata": {
        "id": "ijGQAIp6U3VA"
      }
    },
    {
      "cell_type": "code",
      "source": [
        "df_pred"
      ],
      "metadata": {
        "colab": {
          "base_uri": "https://localhost:8080/",
          "height": 332
        },
        "id": "C8MhUT96U5-S",
        "outputId": "f82c8db3-37ea-4745-e421-464c9391dac0"
      },
      "execution_count": null,
      "outputs": [
        {
          "output_type": "execute_result",
          "data": {
            "text/plain": [
              "                 Accuracy Score        f1\n",
              "lgr                    0.109532  0.197340\n",
              "lgr_fs_gs              0.710056  0.175703\n",
              "dt                     0.641658  0.165862\n",
              "dt_fs_gs               0.573837  0.190913\n",
              "rfc                    0.830296  0.115207\n",
              "rfc_fs_gs              0.708390  0.175826\n",
              "clf_voting             0.463795  0.208699\n",
              "best_clf_voting        0.698191  0.180391\n",
              "clf_adaboost           0.548239  0.190238"
            ],
            "text/html": [
              "\n",
              "  <div id=\"df-20fc2a81-7942-49cd-9807-6adb98c21ad3\">\n",
              "    <div class=\"colab-df-container\">\n",
              "      <div>\n",
              "<style scoped>\n",
              "    .dataframe tbody tr th:only-of-type {\n",
              "        vertical-align: middle;\n",
              "    }\n",
              "\n",
              "    .dataframe tbody tr th {\n",
              "        vertical-align: top;\n",
              "    }\n",
              "\n",
              "    .dataframe thead th {\n",
              "        text-align: right;\n",
              "    }\n",
              "</style>\n",
              "<table border=\"1\" class=\"dataframe\">\n",
              "  <thead>\n",
              "    <tr style=\"text-align: right;\">\n",
              "      <th></th>\n",
              "      <th>Accuracy Score</th>\n",
              "      <th>f1</th>\n",
              "    </tr>\n",
              "  </thead>\n",
              "  <tbody>\n",
              "    <tr>\n",
              "      <th>lgr</th>\n",
              "      <td>0.109532</td>\n",
              "      <td>0.197340</td>\n",
              "    </tr>\n",
              "    <tr>\n",
              "      <th>lgr_fs_gs</th>\n",
              "      <td>0.710056</td>\n",
              "      <td>0.175703</td>\n",
              "    </tr>\n",
              "    <tr>\n",
              "      <th>dt</th>\n",
              "      <td>0.641658</td>\n",
              "      <td>0.165862</td>\n",
              "    </tr>\n",
              "    <tr>\n",
              "      <th>dt_fs_gs</th>\n",
              "      <td>0.573837</td>\n",
              "      <td>0.190913</td>\n",
              "    </tr>\n",
              "    <tr>\n",
              "      <th>rfc</th>\n",
              "      <td>0.830296</td>\n",
              "      <td>0.115207</td>\n",
              "    </tr>\n",
              "    <tr>\n",
              "      <th>rfc_fs_gs</th>\n",
              "      <td>0.708390</td>\n",
              "      <td>0.175826</td>\n",
              "    </tr>\n",
              "    <tr>\n",
              "      <th>clf_voting</th>\n",
              "      <td>0.463795</td>\n",
              "      <td>0.208699</td>\n",
              "    </tr>\n",
              "    <tr>\n",
              "      <th>best_clf_voting</th>\n",
              "      <td>0.698191</td>\n",
              "      <td>0.180391</td>\n",
              "    </tr>\n",
              "    <tr>\n",
              "      <th>clf_adaboost</th>\n",
              "      <td>0.548239</td>\n",
              "      <td>0.190238</td>\n",
              "    </tr>\n",
              "  </tbody>\n",
              "</table>\n",
              "</div>\n",
              "      <button class=\"colab-df-convert\" onclick=\"convertToInteractive('df-20fc2a81-7942-49cd-9807-6adb98c21ad3')\"\n",
              "              title=\"Convert this dataframe to an interactive table.\"\n",
              "              style=\"display:none;\">\n",
              "        \n",
              "  <svg xmlns=\"http://www.w3.org/2000/svg\" height=\"24px\"viewBox=\"0 0 24 24\"\n",
              "       width=\"24px\">\n",
              "    <path d=\"M0 0h24v24H0V0z\" fill=\"none\"/>\n",
              "    <path d=\"M18.56 5.44l.94 2.06.94-2.06 2.06-.94-2.06-.94-.94-2.06-.94 2.06-2.06.94zm-11 1L8.5 8.5l.94-2.06 2.06-.94-2.06-.94L8.5 2.5l-.94 2.06-2.06.94zm10 10l.94 2.06.94-2.06 2.06-.94-2.06-.94-.94-2.06-.94 2.06-2.06.94z\"/><path d=\"M17.41 7.96l-1.37-1.37c-.4-.4-.92-.59-1.43-.59-.52 0-1.04.2-1.43.59L10.3 9.45l-7.72 7.72c-.78.78-.78 2.05 0 2.83L4 21.41c.39.39.9.59 1.41.59.51 0 1.02-.2 1.41-.59l7.78-7.78 2.81-2.81c.8-.78.8-2.07 0-2.86zM5.41 20L4 18.59l7.72-7.72 1.47 1.35L5.41 20z\"/>\n",
              "  </svg>\n",
              "      </button>\n",
              "      \n",
              "  <style>\n",
              "    .colab-df-container {\n",
              "      display:flex;\n",
              "      flex-wrap:wrap;\n",
              "      gap: 12px;\n",
              "    }\n",
              "\n",
              "    .colab-df-convert {\n",
              "      background-color: #E8F0FE;\n",
              "      border: none;\n",
              "      border-radius: 50%;\n",
              "      cursor: pointer;\n",
              "      display: none;\n",
              "      fill: #1967D2;\n",
              "      height: 32px;\n",
              "      padding: 0 0 0 0;\n",
              "      width: 32px;\n",
              "    }\n",
              "\n",
              "    .colab-df-convert:hover {\n",
              "      background-color: #E2EBFA;\n",
              "      box-shadow: 0px 1px 2px rgba(60, 64, 67, 0.3), 0px 1px 3px 1px rgba(60, 64, 67, 0.15);\n",
              "      fill: #174EA6;\n",
              "    }\n",
              "\n",
              "    [theme=dark] .colab-df-convert {\n",
              "      background-color: #3B4455;\n",
              "      fill: #D2E3FC;\n",
              "    }\n",
              "\n",
              "    [theme=dark] .colab-df-convert:hover {\n",
              "      background-color: #434B5C;\n",
              "      box-shadow: 0px 1px 3px 1px rgba(0, 0, 0, 0.15);\n",
              "      filter: drop-shadow(0px 1px 2px rgba(0, 0, 0, 0.3));\n",
              "      fill: #FFFFFF;\n",
              "    }\n",
              "  </style>\n",
              "\n",
              "      <script>\n",
              "        const buttonEl =\n",
              "          document.querySelector('#df-20fc2a81-7942-49cd-9807-6adb98c21ad3 button.colab-df-convert');\n",
              "        buttonEl.style.display =\n",
              "          google.colab.kernel.accessAllowed ? 'block' : 'none';\n",
              "\n",
              "        async function convertToInteractive(key) {\n",
              "          const element = document.querySelector('#df-20fc2a81-7942-49cd-9807-6adb98c21ad3');\n",
              "          const dataTable =\n",
              "            await google.colab.kernel.invokeFunction('convertToInteractive',\n",
              "                                                     [key], {});\n",
              "          if (!dataTable) return;\n",
              "\n",
              "          const docLinkHtml = 'Like what you see? Visit the ' +\n",
              "            '<a target=\"_blank\" href=https://colab.research.google.com/notebooks/data_table.ipynb>data table notebook</a>'\n",
              "            + ' to learn more about interactive tables.';\n",
              "          element.innerHTML = '';\n",
              "          dataTable['output_type'] = 'display_data';\n",
              "          await google.colab.output.renderOutput(dataTable, element);\n",
              "          const docLink = document.createElement('div');\n",
              "          docLink.innerHTML = docLinkHtml;\n",
              "          element.appendChild(docLink);\n",
              "        }\n",
              "      </script>\n",
              "    </div>\n",
              "  </div>\n",
              "  "
            ]
          },
          "metadata": {},
          "execution_count": 335
        }
      ]
    },
    {
      "cell_type": "code",
      "source": [
        "plot = df_pred.rename_axis(index='Model').plot.bar()\n",
        "plot.set_ylabel('Score')"
      ],
      "metadata": {
        "colab": {
          "base_uri": "https://localhost:8080/",
          "height": 361
        },
        "id": "G_1rhz37VbXy",
        "outputId": "af53a46c-a55a-4371-b2f2-d3c5b39b615b"
      },
      "execution_count": null,
      "outputs": [
        {
          "output_type": "execute_result",
          "data": {
            "text/plain": [
              "Text(0, 0.5, 'Score')"
            ]
          },
          "metadata": {},
          "execution_count": 340
        },
        {
          "output_type": "display_data",
          "data": {
            "text/plain": [
              "<Figure size 432x288 with 1 Axes>"
            ],
            "image/png": "[encoded data removed]"
          },
          "metadata": {
            "needs_background": "light"
          }
        }
      ]
    },
    {
      "cell_type": "markdown",
      "source": [
        "## **Results and Conclusions**"
      ],
      "metadata": {
        "id": "6-kSiEnAXBWY"
      }
    },
    {
      "cell_type": "markdown",
      "source": [
        "1. In this project, in order to predict whether a patient will be readmitted in some hospital, I built 9 models.\n",
        "2. The effect of optimizing the models (features selection + grid search) on the score, surprisingly, is not unequivocal:\n",
        " * For lgr and voting - we can see an increase in accuracy score and a slight decrease in f1 score.\n",
        " * For dt and rfc - we see the opposite result.\n",
        "3. Training the model only on portion of the columns (features selection), resulted in the most significant increase of score - in the logistic regression model.\n",
        "4. Confusion matrix and classification report are attached as well to visualize the models performance.\n",
        "5. The best performing model with the highest accuracy is - Random Forest Classifier."
      ],
      "metadata": {
        "id": "W-stmXedXDA-"
      }
    },
    {
      "cell_type": "code",
      "metadata": {
        "id": "bG7Tpdu3PB9M",
        "colab": {
          "base_uri": "https://localhost:8080/",
          "height": 609
        },
        "outputId": "9d6532eb-c001-45c1-e1aa-7f39c10e1d4d"
      },
      "source": [
        "# features importance of the best model (Random Forest Classifier)\n",
        "pd.Series(rfc.feature_importances_, index=X_train.columns).sort_values().plot.barh(figsize=(4, 10), rot=0)"
      ],
      "execution_count": null,
      "outputs": [
        {
          "output_type": "execute_result",
          "data": {
            "text/plain": [
              "<matplotlib.axes._subplots.AxesSubplot at 0x7f0b22dd8450>"
            ]
          },
          "metadata": {},
          "execution_count": 344
        },
        {
          "output_type": "display_data",
          "data": {
            "text/plain": [
              "<Figure size 288x720 with 1 Axes>"
            ],
            "image/png": "[encoded data removed]"
          },
          "metadata": {
            "needs_background": "light"
          }
        }
      ]
    }
  ]
}